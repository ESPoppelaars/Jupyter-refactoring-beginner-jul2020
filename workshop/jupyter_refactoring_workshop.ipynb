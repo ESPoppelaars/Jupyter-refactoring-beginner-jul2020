{
 "cells": [
  {
   "cell_type": "markdown",
   "metadata": {
    "slideshow": {
     "slide_type": "slide"
    }
   },
   "source": [
    "# Jupyter Refactoring for Beginners\n",
    "\n",
    "<img src=\"../assets/Title.png\" width=\"800\">"
   ]
  },
  {
   "cell_type": "markdown",
   "metadata": {
    "slideshow": {
     "slide_type": "subslide"
    }
   },
   "source": [
    "## Workshop structure\n",
    "\n",
    "- [Introduction](#Introduction)\n",
    "- [Why Refactoring is needed](#Why-Refactoring-is-needed)\n",
    "- [How to refactor your code (prerequisites)](#How-to-refactor-your-code-(prerequisites))\n",
    "- [How to write cleaner and more efficient code in Pythonic way](#How-to-write-cleaner-and-more-efficient-code-in-Pythonic-way)\n",
    "- [Bonus](#Bonus)\n",
    "- [Q&A time](#Q&A-time)"
   ]
  },
  {
   "cell_type": "markdown",
   "metadata": {},
   "source": [
    "## Introduction\n",
    "\n",
    "### About me\n",
    "**Alyona Galyeva**: [Principal Data Solutions Engineer at LINKIT](https://www.linkit.nl/en) and [Organiser at PyLadies Amsterdam](https://amsterdam.pyladies.com/)\n",
    "\n",
    "<img src=\"../assets/PyLadies1.jpg\" width=\"800\">  \n",
    "\n",
    "<img src=\"../assets/PyLadies2.jpg\" width=\"800\">  \n",
    "\n",
    "<img src=\"../assets/PyLadies3.jpg\" width=\"800\"> \n",
    "\n",
    "Feel free to contact me via LinkedIn: https://www.linkedin.com/in/alyonagalyeva/\n"
   ]
  },
  {
   "cell_type": "markdown",
   "metadata": {},
   "source": [
    "## Why Refactoring is needed\n",
    "\n"
   ]
  },
  {
   "cell_type": "markdown",
   "metadata": {},
   "source": [
    "![Awesome script](https://chezsoi.org/lucas/blog/images/wwcb/Ill_just_write_a_quick_script...-catacrac.net.png)"
   ]
  },
  {
   "cell_type": "markdown",
   "metadata": {},
   "source": [
    "### Welcome to the land of Spaghetti code and Big Ball of Mud"
   ]
  },
  {
   "cell_type": "code",
   "execution_count": 1,
   "metadata": {
    "tags": []
   },
   "outputs": [],
   "source": [
    "%load_ext autoreload\n",
    "%autoreload 2\n",
    "%matplotlib inline\n",
    "\n",
    "import matplotlib.pyplot as plt\n",
    "import numpy as np\n",
    "import pandas as pd\n",
    "import ipytest\n",
    "import pytest\n",
    "\n",
    "ipytest.autoconfig()\n",
    "pd.set_option(\"display.max_columns\", None) "
   ]
  },
  {
   "cell_type": "code",
   "execution_count": null,
   "metadata": {},
   "outputs": [],
   "source": [
    "# DO NOT REPEAT THIS AT HOME !!! IT IS DANGEROUS AND CONTAGIOUS !!!\n",
    "file = \"/Users/alyonagalyeva/tutorials/WIP/Jupyter-refactoring-beginner-jul2020/workshop/data/Boston_housing_prices.csv\"\n",
    "names = ['CRIM', 'ZN', 'INDUS', 'CHAS', 'NOX', 'RM', 'AGE', 'DIS', 'RAD', 'TAX', 'PTRATIO', 'B', 'LSTAT', 'MEDV']\n",
    "df=pd.read_csv(file, delim_whitespace=True, names=names)"
   ]
  },
  {
   "cell_type": "code",
   "execution_count": null,
   "metadata": {},
   "outputs": [],
   "source": [
    "df.head()"
   ]
  },
  {
   "cell_type": "code",
   "execution_count": null,
   "metadata": {},
   "outputs": [],
   "source": [
    "df1=df[df['CHAS'] > 0]"
   ]
  },
  {
   "cell_type": "code",
   "execution_count": null,
   "metadata": {},
   "outputs": [],
   "source": [
    "df1.head()"
   ]
  },
  {
   "cell_type": "code",
   "execution_count": null,
   "metadata": {},
   "outputs": [],
   "source": [
    "df2=df[df['AGE']==45.8]"
   ]
  },
  {
   "cell_type": "code",
   "execution_count": null,
   "metadata": {},
   "outputs": [],
   "source": [
    "df2.head()"
   ]
  },
  {
   "cell_type": "code",
   "execution_count": null,
   "metadata": {},
   "outputs": [],
   "source": [
    "df3=df.rename(str.lower, axis='columns')"
   ]
  },
  {
   "cell_type": "code",
   "execution_count": null,
   "metadata": {},
   "outputs": [],
   "source": [
    "df3.head()"
   ]
  },
  {
   "cell_type": "code",
   "execution_count": null,
   "metadata": {},
   "outputs": [],
   "source": [
    "# Hoerra, we have a function !!!\n",
    "def twicecol(df, dfcol):\n",
    "    df['twicecol'] = df[dfcol] * df[dfcol]\n",
    "    return df"
   ]
  },
  {
   "cell_type": "code",
   "execution_count": null,
   "metadata": {},
   "outputs": [],
   "source": [
    "df4=twicecol(df3, 'nox')\n",
    "df4.head()"
   ]
  },
  {
   "cell_type": "code",
   "execution_count": null,
   "metadata": {},
   "outputs": [],
   "source": [
    "# Oops, we mutated original dataframe df3, how it is even possible?\n",
    "df3.head()"
   ]
  },
  {
   "cell_type": "markdown",
   "metadata": {},
   "source": [
    "### \"Refactoring is an essential technique to allow a program to be changed safely. It consists of making small changes that don't alter the observable behavior of the software. \" - *Martin Fowler*"
   ]
  },
  {
   "cell_type": "markdown",
   "metadata": {},
   "source": [
    "**So, why do we need Refactoring?**\n",
    "\n",
    "- to understand the code\n",
    "- to improve the readability of code\n",
    "- to make it easier to enhance the code\n",
    "- to reduce time of bug hunting\n"
   ]
  },
  {
   "cell_type": "markdown",
   "metadata": {},
   "source": [
    "**What is Technical Debt?**\n",
    "\n",
    "1. It's a metaphor to describe problems with code design\n",
    "2. It's a lot of shortcuts taken for various reasons\n",
    "3. We borrow against future\n",
    "4. It needs to be paid off with refactoring"
   ]
  },
  {
   "cell_type": "markdown",
   "metadata": {},
   "source": [
    "**When to stop Refactoring?**\n",
    "\n",
    "- Stop when your refactoring step becomes too big\n",
    "- Stop when there is no ROI"
   ]
  },
  {
   "cell_type": "markdown",
   "metadata": {},
   "source": [
    "## How to refactor your code (prerequisites)\n"
   ]
  },
  {
   "cell_type": "markdown",
   "metadata": {},
   "source": [
    "### The art of Recognizing Issues in your code"
   ]
  },
  {
   "cell_type": "markdown",
   "metadata": {},
   "source": [
    "how comments can help or badly hurt you"
   ]
  },
  {
   "cell_type": "code",
   "execution_count": null,
   "metadata": {},
   "outputs": [],
   "source": [
    "# give new names to the columns by renaming the columns and make each columns lowercase, use axis columns \n",
    "df3=df.rename(str.lower, axis='columns')"
   ]
  },
  {
   "cell_type": "code",
   "execution_count": null,
   "metadata": {},
   "outputs": [],
   "source": [
    "## Correlation with independent Variable (Note: Models like RF are not linear like these)\n",
    "df.columns\n",
    "df2 = df.drop('MEDV', axis=1)\n",
    "df.corrwith(df['MEDV']).plot.bar(\n",
    "        figsize = (10, 10), title = \"Correlation with MEDV\", fontsize = 15,\n",
    "        rot = 45, grid = True)"
   ]
  },
  {
   "cell_type": "markdown",
   "metadata": {},
   "source": [
    "confusing names"
   ]
  },
  {
   "cell_type": "code",
   "execution_count": null,
   "metadata": {},
   "outputs": [],
   "source": [
    "# Remember our friends df, df1, df2 and this awesome function?\n",
    "def twicecol(df, dfcol):\n",
    "    df['twicecol'] = df[dfcol] * df[dfcol]\n",
    "    return df"
   ]
  },
  {
   "cell_type": "markdown",
   "metadata": {},
   "source": [
    "magic numbers"
   ]
  },
  {
   "cell_type": "code",
   "execution_count": null,
   "metadata": {},
   "outputs": [],
   "source": [
    "# Somewhere in notebook\n",
    "val = 6\n",
    "\n",
    "# later somewhere at the end of the notebook\n",
    "grouped = df.groupby('TAX').agg([np.sum, np.mean, np.std])\n",
    "\n",
    "if val > 6:\n",
    "    print(grouped.head())\n",
    "else:\n",
    "    print(df.head())"
   ]
  },
  {
   "cell_type": "markdown",
   "metadata": {},
   "source": [
    "duplication and large code blocks are dangerous "
   ]
  },
  {
   "cell_type": "code",
   "execution_count": null,
   "metadata": {},
   "outputs": [],
   "source": [
    "#Define X and y\n",
    "X = df2\n",
    "y = df.loc[:,'MEDV']\n",
    "\n",
    "from sklearn.model_selection import train_test_split\n",
    "X_train, X_test, y_train, y_test = train_test_split(X, y, test_size=0.2, random_state=0)\n",
    "\n",
    "#### Model Building ####\n",
    "### Comparing Models\n",
    "\n",
    "## Multiple Linear Regression Regression\n",
    "from sklearn.linear_model import LinearRegression\n",
    "regressor = LinearRegression()\n",
    "regressor.fit(X_train, y_train)\n",
    "\n",
    "# Predicting Test Set\n",
    "y_pred = regressor.predict(X_test)\n",
    "from sklearn import metrics\n",
    "mae = metrics.mean_absolute_error(y_test, y_pred)\n",
    "mse = metrics.mean_squared_error(y_test, y_pred)\n",
    "rmse = np.sqrt(metrics.mean_squared_error(y_test, y_pred))\n",
    "r2 = metrics.r2_score(y_test, y_pred)\n",
    "\n",
    "results = pd.DataFrame([['Multiple Linear Regression', mae, mse, rmse, r2]],\n",
    "               columns = ['Model', 'MAE', 'MSE', 'RMSE', 'R2 Score'])\n",
    "\n",
    "## Suport Vector Regression \n",
    "'Necessary Standard Scaler '\n",
    "from sklearn.svm import SVR\n",
    "regressor = SVR(kernel = 'rbf')\n",
    "regressor.fit(X_train, y_train)\n",
    "\n",
    "# Predicting Test Set\n",
    "y_pred = regressor.predict(X_test)\n",
    "from sklearn import metrics\n",
    "mae = metrics.mean_absolute_error(y_test, y_pred)\n",
    "mse = metrics.mean_squared_error(y_test, y_pred)\n",
    "rmse = np.sqrt(metrics.mean_squared_error(y_test, y_pred))\n",
    "r2 = metrics.r2_score(y_test, y_pred)\n",
    "\n",
    "model_results = pd.DataFrame([['Support Vector RBF', mae, mse, rmse, r2]],\n",
    "               columns = ['Model', 'MAE', 'MSE', 'RMSE', 'R2 Score'])\n",
    "\n",
    "results = results.append(model_results, ignore_index = True)\n",
    "\n",
    "## Decision Tree Regression\n",
    "from sklearn.tree import DecisionTreeRegressor\n",
    "regressor = DecisionTreeRegressor(random_state=0)\n",
    "regressor.fit(X_train, y_train)\n",
    "\n",
    "# Predicting Test Set\n",
    "y_pred = regressor.predict(X_test)\n",
    "from sklearn import metrics\n",
    "mae = metrics.mean_absolute_error(y_test, y_pred)\n",
    "mse = metrics.mean_squared_error(y_test, y_pred)\n",
    "rmse = np.sqrt(metrics.mean_squared_error(y_test, y_pred))\n",
    "r2 = metrics.r2_score(y_test, y_pred)\n",
    "\n",
    "model_results = pd.DataFrame([['Decision Tree Regression', mae, mse, rmse, r2]],\n",
    "               columns = ['Model', 'MAE', 'MSE', 'RMSE', 'R2 Score'])\n",
    "\n",
    "results = results.append(model_results, ignore_index = True)"
   ]
  },
  {
   "cell_type": "markdown",
   "metadata": {},
   "source": [
    "poor formatting"
   ]
  },
  {
   "cell_type": "code",
   "execution_count": null,
   "metadata": {},
   "outputs": [],
   "source": [
    "fig=plt.figure( figsize=(10, 10) ); plt.suptitle( 'Histograms', fontsize=20 )\n",
    "for i in range(df2.shape[1]):\n",
    "    plt.subplot( 6,3,i+1);f = plt.gca();f.set_title(df2.columns.values[i])\n",
    "\n",
    "    vals = np.size(df2.iloc[:, i].unique())\n",
    "    if vals>=100: vals=100\n",
    "    \n",
    "    plt.hist(df2.iloc[:, i], bins=vals, color='#3F5D7D')\n",
    "plt.tight_layout(rect=[0, 0.03, 1, 0.95])"
   ]
  },
  {
   "cell_type": "markdown",
   "metadata": {},
   "source": [
    "zombie code"
   ]
  },
  {
   "cell_type": "code",
   "execution_count": null,
   "metadata": {},
   "outputs": [],
   "source": [
    "#grid_sv = GridSearchCV(desc_tr, cv=kf, param_grid={\"max_depth\" : [1, 2, 3, 4, 5, 6, 7]}, scoring='neg_mean_squared_error')\n",
    "#grid_sv.fit(x_scaled, y)\n",
    "#print(\"Best classifier :\", grid_sv.best_estimator_)\n",
    "\n",
    "#grid_sv = GridSearchCV(knn, cv=kf, param_grid={\"n_neighbors\" : [2, 3, 4, 5, 6, 7]}, scoring='neg_mean_squared_error')\n",
    "#grid_sv.fit(x_scaled, y)\n",
    "#print(\"Best classifier :\", grid_sv.best_estimator_)"
   ]
  },
  {
   "cell_type": "markdown",
   "metadata": {},
   "source": [
    "## How to write cleaner and more efficient code in Pythonic way\n"
   ]
  },
  {
   "cell_type": "markdown",
   "metadata": {},
   "source": [
    "### Typical refactoring workflow"
   ]
  },
  {
   "cell_type": "markdown",
   "metadata": {},
   "source": [
    "- answer why refactoring is needed in this particular situation\n",
    "- git, conda environment (or venv) are your best friends\n",
    "- make a copy of a notebook you are going to refactor\n",
    "- fix the seed\n",
    "- define a layout for your refactored notebook\n",
    "- pick a chunk of code to refactor\n",
    "- if you created a function, write tests for this function, run tests. If success --> git commit\n",
    "- else update your function to make the tests pass --> git commit\n",
    "- repeat"
   ]
  },
  {
   "cell_type": "markdown",
   "metadata": {},
   "source": [
    "### Are you ready to roll up the sleeves and start hands-on part together with me?"
   ]
  },
  {
   "cell_type": "markdown",
   "metadata": {},
   "source": [
    "### Refactoring techniques"
   ]
  },
  {
   "cell_type": "markdown",
   "metadata": {},
   "source": [
    "#### Rename\n",
    "\n",
    "Let's take a look at the most powerful and widely used refactoring technique: **Rename**\n",
    "\n",
    "What we can **Rename**:\n",
    "\n",
    "a variable, a function, function parameters, a class, class attributes and methods "
   ]
  },
  {
   "cell_type": "code",
   "execution_count": 7,
   "metadata": {},
   "outputs": [
    {
     "name": "stderr",
     "output_type": "stream",
     "text": [
      "/usr/local/Caskroom/miniconda/base/envs/jupyter-refactoring/lib/python3.8/site-packages/IPython/core/interactiveshell.py:3071: DtypeWarning: Columns (10) have mixed types.Specify dtype option on import or set low_memory=False.\n",
      "  has_raised = await self.run_ast_nodes(code_ast.body, cell_name,\n"
     ]
    }
   ],
   "source": [
    "x = (\"data/movies_metadata.csv\")\n",
    "df = pd.read_csv(x)\n",
    "df1 = df[df[\"budget\"] > 0]\n",
    "\n",
    "#rename variables \n",
    "filepath = (\"data/movies_metadata.csv\")\n",
    "movies = pd.read_csv(filepath)\n",
    "movies_big_budget = df[df[\"budget\"] > 30000000]"
   ]
  },
  {
   "cell_type": "code",
   "execution_count": 5,
   "metadata": {},
   "outputs": [],
   "source": [
    "def my_func(a, b):\n",
    "    return a.lower() + b.upper()\n",
    "\n",
    "#Rename function and its parameters \n",
    "def mix_lower_upper_case(first_param, second_param):\n",
    "    return first_param.lower() + second_param.upper()\n",
    "\n",
    "#We can add type hints for readability purposes\n",
    "def mix_lower_upper_case(first_param: str, second_param: str) -> str:\n",
    "    \"\"\" Concatenate two strings, cast the first string to lowercase and the second string to uppercase\"\"\"\n",
    "    return first_param.lower() + second_param.upper()\n",
    "\n",
    "# Add casting to a str to make sure that the function returns what expected\n",
    "def mix_lower_upper_case(first_param: str, second_param: str) -> str:\n",
    "    \"\"\" Concatenate two strings, cast the first string to lowercase and the second string to uppercase\"\"\"\n",
    "    return str(first_param).lower() + str(second_param).upper()"
   ]
  },
  {
   "cell_type": "markdown",
   "metadata": {},
   "source": [
    "**Exercise 1:**\n",
    "\n",
    "Rename a function, add docstring, type hints\n",
    "\n",
    "def refactor_me(x, y, z):\n",
    "    return 2*x+y+z**2"
   ]
  },
  {
   "cell_type": "code",
   "execution_count": null,
   "metadata": {},
   "outputs": [],
   "source": []
  },
  {
   "cell_type": "markdown",
   "metadata": {},
   "source": [
    "#### Extract\n",
    "\n",
    "Let's try another refactoring technique: **Extract**\n",
    "\n",
    "What we can **Extract**:\n",
    "\n",
    "a variable, a function, a class"
   ]
  },
  {
   "cell_type": "code",
   "execution_count": 8,
   "metadata": {},
   "outputs": [
    {
     "data": {
      "text/html": [
       "<div>\n",
       "<style scoped>\n",
       "    .dataframe tbody tr th:only-of-type {\n",
       "        vertical-align: middle;\n",
       "    }\n",
       "\n",
       "    .dataframe tbody tr th {\n",
       "        vertical-align: top;\n",
       "    }\n",
       "\n",
       "    .dataframe thead th {\n",
       "        text-align: right;\n",
       "    }\n",
       "</style>\n",
       "<table border=\"1\" class=\"dataframe\">\n",
       "  <thead>\n",
       "    <tr style=\"text-align: right;\">\n",
       "      <th></th>\n",
       "      <th>adult</th>\n",
       "      <th>belongs_to_collection</th>\n",
       "      <th>budget</th>\n",
       "      <th>genres</th>\n",
       "      <th>homepage</th>\n",
       "      <th>id</th>\n",
       "      <th>imdb_id</th>\n",
       "      <th>original_language</th>\n",
       "      <th>original_title</th>\n",
       "      <th>overview</th>\n",
       "      <th>popularity</th>\n",
       "      <th>poster_path</th>\n",
       "      <th>production_companies</th>\n",
       "      <th>production_countries</th>\n",
       "      <th>release_date</th>\n",
       "      <th>revenue</th>\n",
       "      <th>runtime</th>\n",
       "      <th>spoken_languages</th>\n",
       "      <th>status</th>\n",
       "      <th>tagline</th>\n",
       "      <th>title</th>\n",
       "      <th>video</th>\n",
       "      <th>vote_average</th>\n",
       "      <th>vote_count</th>\n",
       "    </tr>\n",
       "  </thead>\n",
       "  <tbody>\n",
       "    <tr>\n",
       "      <th>0</th>\n",
       "      <td>FALSE</td>\n",
       "      <td>{'id': 10194, 'name': 'Toy Story Collection', ...</td>\n",
       "      <td>30000000</td>\n",
       "      <td>[{'id': 16, 'name': 'Animation'}, {'id': 35, '...</td>\n",
       "      <td>http://toystory.disney.com/toy-story</td>\n",
       "      <td>862</td>\n",
       "      <td>tt0114709</td>\n",
       "      <td>en</td>\n",
       "      <td>Toy Story</td>\n",
       "      <td>Led by Woody, Andy's toys live happily in his ...</td>\n",
       "      <td>21.9469</td>\n",
       "      <td>/rhIRbceoE9lR4veEXuwCC2wARtG.jpg</td>\n",
       "      <td>[{'name': 'Pixar Animation Studios', 'id': 3}]</td>\n",
       "      <td>[{'iso_3166_1': 'US', 'name': 'United States o...</td>\n",
       "      <td>10/30/1995</td>\n",
       "      <td>373554033.0</td>\n",
       "      <td>81.0</td>\n",
       "      <td>[{'iso_639_1': 'en', 'name': 'English'}]</td>\n",
       "      <td>Released</td>\n",
       "      <td>NaN</td>\n",
       "      <td>Toy Story</td>\n",
       "      <td>False</td>\n",
       "      <td>7.7</td>\n",
       "      <td>5415.0</td>\n",
       "    </tr>\n",
       "    <tr>\n",
       "      <th>1</th>\n",
       "      <td>FALSE</td>\n",
       "      <td>NaN</td>\n",
       "      <td>65000000</td>\n",
       "      <td>[{'id': 12, 'name': 'Adventure'}, {'id': 14, '...</td>\n",
       "      <td>NaN</td>\n",
       "      <td>8844</td>\n",
       "      <td>tt0113497</td>\n",
       "      <td>en</td>\n",
       "      <td>Jumanji</td>\n",
       "      <td>When siblings Judy and Peter discover an encha...</td>\n",
       "      <td>17.0155</td>\n",
       "      <td>/vzmL6fP7aPKNKPRTFnZmiUfciyV.jpg</td>\n",
       "      <td>[{'name': 'TriStar Pictures', 'id': 559}, {'na...</td>\n",
       "      <td>[{'iso_3166_1': 'US', 'name': 'United States o...</td>\n",
       "      <td>12/15/1995</td>\n",
       "      <td>262797249.0</td>\n",
       "      <td>104.0</td>\n",
       "      <td>[{'iso_639_1': 'en', 'name': 'English'}, {'iso...</td>\n",
       "      <td>Released</td>\n",
       "      <td>Roll the dice and unleash the excitement!</td>\n",
       "      <td>Jumanji</td>\n",
       "      <td>False</td>\n",
       "      <td>6.9</td>\n",
       "      <td>2413.0</td>\n",
       "    </tr>\n",
       "    <tr>\n",
       "      <th>3</th>\n",
       "      <td>FALSE</td>\n",
       "      <td>NaN</td>\n",
       "      <td>16000000</td>\n",
       "      <td>[{'id': 35, 'name': 'Comedy'}, {'id': 18, 'nam...</td>\n",
       "      <td>NaN</td>\n",
       "      <td>31357</td>\n",
       "      <td>tt0114885</td>\n",
       "      <td>en</td>\n",
       "      <td>Waiting to Exhale</td>\n",
       "      <td>Cheated on, mistreated and stepped on, the wom...</td>\n",
       "      <td>3.85949</td>\n",
       "      <td>/16XOMpEaLWkrcPqSQqhTmeJuqQl.jpg</td>\n",
       "      <td>[{'name': 'Twentieth Century Fox Film Corporat...</td>\n",
       "      <td>[{'iso_3166_1': 'US', 'name': 'United States o...</td>\n",
       "      <td>12/22/1995</td>\n",
       "      <td>81452156.0</td>\n",
       "      <td>127.0</td>\n",
       "      <td>[{'iso_639_1': 'en', 'name': 'English'}]</td>\n",
       "      <td>Released</td>\n",
       "      <td>Friends are the people who let you be yourself...</td>\n",
       "      <td>Waiting to Exhale</td>\n",
       "      <td>False</td>\n",
       "      <td>6.1</td>\n",
       "      <td>34.0</td>\n",
       "    </tr>\n",
       "    <tr>\n",
       "      <th>5</th>\n",
       "      <td>FALSE</td>\n",
       "      <td>NaN</td>\n",
       "      <td>60000000</td>\n",
       "      <td>[{'id': 28, 'name': 'Action'}, {'id': 80, 'nam...</td>\n",
       "      <td>NaN</td>\n",
       "      <td>949</td>\n",
       "      <td>tt0113277</td>\n",
       "      <td>en</td>\n",
       "      <td>Heat</td>\n",
       "      <td>Obsessive master thief, Neil McCauley leads a ...</td>\n",
       "      <td>17.9249</td>\n",
       "      <td>/zMyfPUelumio3tiDKPffaUpsQTD.jpg</td>\n",
       "      <td>[{'name': 'Regency Enterprises', 'id': 508}, {...</td>\n",
       "      <td>[{'iso_3166_1': 'US', 'name': 'United States o...</td>\n",
       "      <td>12/15/1995</td>\n",
       "      <td>187436818.0</td>\n",
       "      <td>170.0</td>\n",
       "      <td>[{'iso_639_1': 'en', 'name': 'English'}, {'iso...</td>\n",
       "      <td>Released</td>\n",
       "      <td>A Los Angeles Crime Saga</td>\n",
       "      <td>Heat</td>\n",
       "      <td>False</td>\n",
       "      <td>7.7</td>\n",
       "      <td>1886.0</td>\n",
       "    </tr>\n",
       "    <tr>\n",
       "      <th>6</th>\n",
       "      <td>FALSE</td>\n",
       "      <td>NaN</td>\n",
       "      <td>58000000</td>\n",
       "      <td>[{'id': 35, 'name': 'Comedy'}, {'id': 10749, '...</td>\n",
       "      <td>NaN</td>\n",
       "      <td>11860</td>\n",
       "      <td>tt0114319</td>\n",
       "      <td>en</td>\n",
       "      <td>Sabrina</td>\n",
       "      <td>An ugly duckling having undergone a remarkable...</td>\n",
       "      <td>6.67728</td>\n",
       "      <td>/jQh15y5YB7bWz1NtffNZmRw0s9D.jpg</td>\n",
       "      <td>[{'name': 'Paramount Pictures', 'id': 4}, {'na...</td>\n",
       "      <td>[{'iso_3166_1': 'DE', 'name': 'Germany'}, {'is...</td>\n",
       "      <td>12/15/1995</td>\n",
       "      <td>0.0</td>\n",
       "      <td>127.0</td>\n",
       "      <td>[{'iso_639_1': 'fr', 'name': 'Français'}, {'is...</td>\n",
       "      <td>Released</td>\n",
       "      <td>You are cordially invited to the most surprisi...</td>\n",
       "      <td>Sabrina</td>\n",
       "      <td>False</td>\n",
       "      <td>6.2</td>\n",
       "      <td>141.0</td>\n",
       "    </tr>\n",
       "  </tbody>\n",
       "</table>\n",
       "</div>"
      ],
      "text/plain": [
       "   adult                              belongs_to_collection    budget  \\\n",
       "0  FALSE  {'id': 10194, 'name': 'Toy Story Collection', ...  30000000   \n",
       "1  FALSE                                                NaN  65000000   \n",
       "3  FALSE                                                NaN  16000000   \n",
       "5  FALSE                                                NaN  60000000   \n",
       "6  FALSE                                                NaN  58000000   \n",
       "\n",
       "                                              genres  \\\n",
       "0  [{'id': 16, 'name': 'Animation'}, {'id': 35, '...   \n",
       "1  [{'id': 12, 'name': 'Adventure'}, {'id': 14, '...   \n",
       "3  [{'id': 35, 'name': 'Comedy'}, {'id': 18, 'nam...   \n",
       "5  [{'id': 28, 'name': 'Action'}, {'id': 80, 'nam...   \n",
       "6  [{'id': 35, 'name': 'Comedy'}, {'id': 10749, '...   \n",
       "\n",
       "                               homepage     id    imdb_id original_language  \\\n",
       "0  http://toystory.disney.com/toy-story    862  tt0114709                en   \n",
       "1                                   NaN   8844  tt0113497                en   \n",
       "3                                   NaN  31357  tt0114885                en   \n",
       "5                                   NaN    949  tt0113277                en   \n",
       "6                                   NaN  11860  tt0114319                en   \n",
       "\n",
       "      original_title                                           overview  \\\n",
       "0          Toy Story  Led by Woody, Andy's toys live happily in his ...   \n",
       "1            Jumanji  When siblings Judy and Peter discover an encha...   \n",
       "3  Waiting to Exhale  Cheated on, mistreated and stepped on, the wom...   \n",
       "5               Heat  Obsessive master thief, Neil McCauley leads a ...   \n",
       "6            Sabrina  An ugly duckling having undergone a remarkable...   \n",
       "\n",
       "  popularity                       poster_path  \\\n",
       "0    21.9469  /rhIRbceoE9lR4veEXuwCC2wARtG.jpg   \n",
       "1    17.0155  /vzmL6fP7aPKNKPRTFnZmiUfciyV.jpg   \n",
       "3    3.85949  /16XOMpEaLWkrcPqSQqhTmeJuqQl.jpg   \n",
       "5    17.9249  /zMyfPUelumio3tiDKPffaUpsQTD.jpg   \n",
       "6    6.67728  /jQh15y5YB7bWz1NtffNZmRw0s9D.jpg   \n",
       "\n",
       "                                production_companies  \\\n",
       "0     [{'name': 'Pixar Animation Studios', 'id': 3}]   \n",
       "1  [{'name': 'TriStar Pictures', 'id': 559}, {'na...   \n",
       "3  [{'name': 'Twentieth Century Fox Film Corporat...   \n",
       "5  [{'name': 'Regency Enterprises', 'id': 508}, {...   \n",
       "6  [{'name': 'Paramount Pictures', 'id': 4}, {'na...   \n",
       "\n",
       "                                production_countries release_date  \\\n",
       "0  [{'iso_3166_1': 'US', 'name': 'United States o...   10/30/1995   \n",
       "1  [{'iso_3166_1': 'US', 'name': 'United States o...   12/15/1995   \n",
       "3  [{'iso_3166_1': 'US', 'name': 'United States o...   12/22/1995   \n",
       "5  [{'iso_3166_1': 'US', 'name': 'United States o...   12/15/1995   \n",
       "6  [{'iso_3166_1': 'DE', 'name': 'Germany'}, {'is...   12/15/1995   \n",
       "\n",
       "       revenue  runtime                                   spoken_languages  \\\n",
       "0  373554033.0     81.0           [{'iso_639_1': 'en', 'name': 'English'}]   \n",
       "1  262797249.0    104.0  [{'iso_639_1': 'en', 'name': 'English'}, {'iso...   \n",
       "3   81452156.0    127.0           [{'iso_639_1': 'en', 'name': 'English'}]   \n",
       "5  187436818.0    170.0  [{'iso_639_1': 'en', 'name': 'English'}, {'iso...   \n",
       "6          0.0    127.0  [{'iso_639_1': 'fr', 'name': 'Français'}, {'is...   \n",
       "\n",
       "     status                                            tagline  \\\n",
       "0  Released                                                NaN   \n",
       "1  Released          Roll the dice and unleash the excitement!   \n",
       "3  Released  Friends are the people who let you be yourself...   \n",
       "5  Released                           A Los Angeles Crime Saga   \n",
       "6  Released  You are cordially invited to the most surprisi...   \n",
       "\n",
       "               title  video  vote_average  vote_count  \n",
       "0          Toy Story  False           7.7      5415.0  \n",
       "1            Jumanji  False           6.9      2413.0  \n",
       "3  Waiting to Exhale  False           6.1        34.0  \n",
       "5               Heat  False           7.7      1886.0  \n",
       "6            Sabrina  False           6.2       141.0  "
      ]
     },
     "execution_count": 8,
     "metadata": {},
     "output_type": "execute_result"
    }
   ],
   "source": [
    "movies_valid_budget = movies.loc[movies[\"budget\"] != 0]\n",
    "\n",
    "# extract a variable\n",
    "valid_budget = movies[\"budget\"] != 0\n",
    "movies_valid_budget = movies.loc[valid_budget]"
   ]
  },
  {
   "cell_type": "markdown",
   "metadata": {},
   "source": [
    "Let's extract a function, but before this we need to add tests"
   ]
  },
  {
   "cell_type": "code",
   "execution_count": 9,
   "metadata": {},
   "outputs": [
    {
     "name": "stdout",
     "output_type": "stream",
     "text": [
      "==================================== test session starts ====================================\n",
      "platform darwin -- Python 3.8.3, pytest-5.4.3, py-1.9.0, pluggy-0.13.1 -- /usr/local/Caskroom/miniconda/base/envs/jupyter-refactoring/bin/python\n",
      "cachedir: .pytest_cache\n",
      "rootdir: /Users/alyonagalyeva/tutorials/WIP/Jupyter-refactoring-beginner-jul2020/workshop\n",
      "collecting ... collected 2 items\n",
      "\n",
      "tmpxqqd1um7.py::test_say_hello_success PASSED                                         [ 50%]\n",
      "tmpxqqd1um7.py::test_say_hello_failure FAILED                                         [100%]\n",
      "\n",
      "========================================= FAILURES ==========================================\n",
      "__________________________________ test_say_hello_failure ___________________________________\n",
      "\n",
      "    def test_say_hello_failure():\n",
      ">       assert say_hello() == \"hello Again\"\n",
      "E       AssertionError: assert 'Hello Again' == 'hello Again'\n",
      "E         - hello Again\n",
      "E         ? ^\n",
      "E         + Hello Again\n",
      "E         ? ^\n",
      "\n",
      "<ipython-input-9-3c6bb66c317e>:5: AssertionError\n",
      "================================== short test summary info ==================================\n",
      "FAILED tmpxqqd1um7.py::test_say_hello_failure - AssertionError: assert 'Hello Again' == 'h...\n",
      "================================ 1 failed, 1 passed in 0.04s ================================\n"
     ]
    }
   ],
   "source": [
    "%%run_pytest[clean] -vv\n",
    "   \n",
    "def test_say_hello_success():\n",
    "    assert say_hello() == \"Hello Again\"\n",
    "\n",
    "def test_say_hello_failure():\n",
    "    assert say_hello() == \"hello Again\"\n",
    "\n",
    "    \n",
    "# a function to be tested\n",
    "def say_hello():\n",
    "    return \"Hello Again\""
   ]
  },
  {
   "cell_type": "code",
   "execution_count": 12,
   "metadata": {},
   "outputs": [
    {
     "name": "stdout",
     "output_type": "stream",
     "text": [
      "==================================== test session starts ====================================\n",
      "platform darwin -- Python 3.8.3, pytest-5.4.3, py-1.9.0, pluggy-0.13.1 -- /usr/local/Caskroom/miniconda/base/envs/jupyter-refactoring/bin/python\n",
      "cachedir: .pytest_cache\n",
      "rootdir: /Users/alyonagalyeva/tutorials/WIP/Jupyter-refactoring-beginner-jul2020/workshop\n",
      "collecting ... collected 2 items\n",
      "\n",
      "tmpuj3swmpb.py::test_multiply_by_2 PASSED                                             [ 50%]\n",
      "tmpuj3swmpb.py::test_multiply_by_min1 PASSED                                          [100%]\n",
      "\n",
      "===================================== 2 passed in 0.02s =====================================\n"
     ]
    }
   ],
   "source": [
    "%%run_pytest[clean] -vv\n",
    "\n",
    "def test_multiply_by_2():\n",
    "    input_df = pd.DataFrame([(1, 2), (2, 8)], columns=[\"A\", \"B\"])\n",
    "    test_df = multiply_column(input_df, \"B\", 2)\n",
    "    expected_df = pd.Series([50,200], name=\"B\")\n",
    "    pd.testing.assert_series_equal(test_df, expected_df)\n",
    "\n",
    "def test_multiply_by_min1():\n",
    "    input_df = pd.DataFrame([(1, 2), (2, 8)], columns=[\"A\", \"B\"])\n",
    "    test_df = multiply_column(input_df, \"A\", -1)\n",
    "    expected_df = pd.Series([25,50], name=\"A\")\n",
    "    pd.testing.assert_series_equal(test_df, expected_df)\n",
    "   \n",
    "\n",
    "def multiply_column(df: pd.DataFrame, column_name: str, multiplyer: int) -> pd.DataFrame:\n",
    "    df = df.copy()\n",
    "    updated_df = df[column_name] * 25\n",
    "    return updated_df"
   ]
  },
  {
   "cell_type": "markdown",
   "metadata": {},
   "source": [
    "**Exercise 2:**\n",
    "\n",
    "Extract a function and 3 tests for the following lines below"
   ]
  },
  {
   "cell_type": "code",
   "execution_count": 11,
   "metadata": {},
   "outputs": [],
   "source": [
    "#clean_movie_data_df = movie_data_df.loc[movie_data_df[\"budget\"] != 0  ]\n",
    "#clean_movie_data_df = clean_movie_data_df.loc[clean_movie_data_df[\"revenue\"] != 0  ]"
   ]
  },
  {
   "cell_type": "code",
   "execution_count": null,
   "metadata": {},
   "outputs": [],
   "source": []
  },
  {
   "cell_type": "markdown",
   "metadata": {},
   "source": [
    "#### Inline\n",
    "\n",
    "Let's move to another refactoring technique: **Inline**\n",
    "\n",
    "What we can **Inline**:\n",
    "\n",
    "a variable, a function, a class"
   ]
  },
  {
   "cell_type": "code",
   "execution_count": null,
   "metadata": {},
   "outputs": [],
   "source": []
  },
  {
   "cell_type": "code",
   "execution_count": null,
   "metadata": {},
   "outputs": [],
   "source": []
  },
  {
   "cell_type": "markdown",
   "metadata": {},
   "source": [
    "**Exercise 3:** \n",
    "\n",
    "\n",
    "\n"
   ]
  },
  {
   "cell_type": "code",
   "execution_count": null,
   "metadata": {},
   "outputs": [],
   "source": []
  },
  {
   "cell_type": "markdown",
   "metadata": {},
   "source": [
    "## Bonus"
   ]
  },
  {
   "cell_type": "markdown",
   "metadata": {},
   "source": [
    "### Future readings"
   ]
  },
  {
   "cell_type": "markdown",
   "metadata": {},
   "source": [
    "- [Jupyter Notebook Refactoring Series - Part 1](https://itnext.io/jupyter-notebook-refactoring-series-part-1-adff1b44dfdb)\n",
    "- [Jupyter Notebook Refactoring Series - Part 2](https://itnext.io/jupyter-notebook-refactoring-series-part-2-899e40163ead)\n",
    "- [Refactoring catalogue](https://refactoring.com/catalog/)\n",
    "- [Refactoring techniques](https://refactoring.guru/refactoring/techniques)\n",
    "\n",
    "- [Data Science Workflow](https://towardsdatascience.com/the-data-science-workflow-43859db0415)\n",
    "- [Structure and Automated Workflow for Data Science Project - Part1](https://towardsdatascience.com/structure-and-automated-workflow-for-a-machine-learning-project-2fa30d661c1e)\n",
    "- [Structure and Automated Workflow for Data Science Project - Part2](https://towardsdatascience.com/structure-and-automated-workflow-for-a-machine-learning-project-part-2-b5b420625102)\n",
    "- [Integrate Unit Testing, Linting and CI into your Python project](https://www.earthdatascience.org/blog/unit-testing-linting-ci-python/)"
   ]
  },
  {
   "cell_type": "markdown",
   "metadata": {},
   "source": [
    "### Useful links"
   ]
  },
  {
   "cell_type": "markdown",
   "metadata": {},
   "source": [
    "- [Reproducible Data Analysis in Jupyter](https://youtu.be/_ZEWDGpM-vM)\n",
    "- [Clean code for ML projects](https://github.com/davified/clean-code-ml)"
   ]
  },
  {
   "cell_type": "markdown",
   "metadata": {},
   "source": [
    "## Q&A time\n",
    "\n",
    "### Thank you for your time !!!"
   ]
  }
 ],
 "metadata": {
  "celltoolbar": "Slideshow",
  "kernelspec": {
   "display_name": "jupyter-refactoring",
   "language": "python",
   "name": "jupyter-refactoring"
  },
  "language_info": {
   "codemirror_mode": {
    "name": "ipython",
    "version": 3
   },
   "file_extension": ".py",
   "mimetype": "text/x-python",
   "name": "python",
   "nbconvert_exporter": "python",
   "pygments_lexer": "ipython3",
   "version": "3.8.3"
  }
 },
 "nbformat": 4,
 "nbformat_minor": 4
}
