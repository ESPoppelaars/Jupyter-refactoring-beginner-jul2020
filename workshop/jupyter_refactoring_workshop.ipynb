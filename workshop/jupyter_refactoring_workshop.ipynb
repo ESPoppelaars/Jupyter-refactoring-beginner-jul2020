{
 "cells": [
  {
   "cell_type": "markdown",
   "metadata": {
    "slideshow": {
     "slide_type": "slide"
    }
   },
   "source": [
    "# Jupyter Refactoring for Beginners\n",
    "\n",
    "<img src=\"../assets/Title.png\" width=\"800\">"
   ]
  },
  {
   "cell_type": "markdown",
   "metadata": {
    "slideshow": {
     "slide_type": "subslide"
    }
   },
   "source": [
    "## Workshop structure\n",
    "\n",
    "- [Introduction](#Introduction)\n",
    "- [Why Refactoring is needed](#Why-Refactoring-is-needed)\n",
    "- [How to refactor your code (prerequisites)](#How-to-refactor-your-code-(prerequisites))\n",
    "- [How to write cleaner and more efficient code in Pythonic way](#How-to-write-cleaner-and-more-efficient-code-in-Pythonic-way)\n",
    "- [Bonus](#Bonus)\n",
    "- [Q&A time](#Q&A-time)"
   ]
  },
  {
   "cell_type": "markdown",
   "metadata": {},
   "source": [
    "## Introduction\n",
    "\n",
    "### About me\n",
    "**Alyona Galyeva**: [Principal Data Solutions Engineer at LINKIT](https://www.linkit.nl/en) and [Organiser at PyLadies Amsterdam](https://amsterdam.pyladies.com/)\n",
    "\n",
    "<img src=\"../assets/PyLadies1.jpg\" width=\"800\">  \n",
    "\n",
    "<img src=\"../assets/PyLadies2.jpg\" width=\"800\">  \n",
    "\n",
    "<img src=\"../assets/PyLadies3.jpg\" width=\"800\"> \n",
    "\n",
    "Feel free to contact me via LinkedIn: https://www.linkedin.com/in/alyonagalyeva/\n"
   ]
  },
  {
   "cell_type": "markdown",
   "metadata": {},
   "source": [
    "## Why Refactoring is needed\n",
    "\n"
   ]
  },
  {
   "cell_type": "markdown",
   "metadata": {},
   "source": [
    "![Awesome script](https://chezsoi.org/lucas/blog/images/wwcb/Ill_just_write_a_quick_script...-catacrac.net.png)"
   ]
  },
  {
   "cell_type": "markdown",
   "metadata": {},
   "source": [
    "### Welcome to the land of Spaghetti code and Big Ball of Mud"
   ]
  },
  {
   "cell_type": "code",
   "execution_count": 2,
   "metadata": {
    "tags": []
   },
   "outputs": [],
   "source": [
    "%load_ext autoreload\n",
    "%autoreload 2\n",
    "%matplotlib inline\n",
    "\n",
    "import matplotlib.pyplot as plt\n",
    "import numpy as np\n",
    "import pandas as pd"
   ]
  },
  {
   "cell_type": "code",
   "execution_count": null,
   "metadata": {},
   "outputs": [],
   "source": []
  },
  {
   "cell_type": "markdown",
   "metadata": {},
   "source": [
    "### \"Refactoring is the process of changing a software system in such a way that it does not alter the external behaviour of the code yet improves its internal structure\" - *Martin Fowler*"
   ]
  },
  {
   "cell_type": "markdown",
   "metadata": {},
   "source": [
    "**So, why do we need Refactoring?**\n",
    "\n",
    "- to understand the code\n",
    "- to improve the readability of code\n",
    "- to make it easier to enhance the code\n",
    "- to reduce time of bug hunting\n"
   ]
  },
  {
   "cell_type": "markdown",
   "metadata": {},
   "source": [
    "**What is Technical Debt?**\n",
    "\n",
    "1. It's a metaphor to describe problems with code design\n",
    "2. It's a lot of shortcuts taken for various reasons\n",
    "3. We borrow against future\n",
    "4. It needs to be paid off with refactoring"
   ]
  },
  {
   "cell_type": "code",
   "execution_count": null,
   "metadata": {},
   "outputs": [],
   "source": []
  },
  {
   "cell_type": "code",
   "execution_count": null,
   "metadata": {},
   "outputs": [],
   "source": []
  },
  {
   "cell_type": "markdown",
   "metadata": {},
   "source": [
    "## How to refactor your code (prerequisites)\n"
   ]
  },
  {
   "cell_type": "code",
   "execution_count": null,
   "metadata": {},
   "outputs": [],
   "source": []
  },
  {
   "cell_type": "markdown",
   "metadata": {},
   "source": [
    "## How to write cleaner and more efficient code in Pythonic way\n"
   ]
  },
  {
   "cell_type": "markdown",
   "metadata": {},
   "source": [
    "## Bonus"
   ]
  },
  {
   "cell_type": "markdown",
   "metadata": {},
   "source": [
    "## Q&A time\n",
    "\n",
    "### Happy coding with PyLadies Amsterdam"
   ]
  }
 ],
 "metadata": {
  "celltoolbar": "Slideshow",
  "kernelspec": {
   "display_name": "jupyter-refactoring",
   "language": "python",
   "name": "jupyter-refactoring"
  },
  "language_info": {
   "codemirror_mode": {
    "name": "ipython",
    "version": 3
   },
   "file_extension": ".py",
   "mimetype": "text/x-python",
   "name": "python",
   "nbconvert_exporter": "python",
   "pygments_lexer": "ipython3",
   "version": "3.8.3"
  }
 },
 "nbformat": 4,
 "nbformat_minor": 4
}
