{
 "cells": [
  {
   "cell_type": "markdown",
   "metadata": {
    "slideshow": {
     "slide_type": "slide"
    }
   },
   "source": [
    "# Jupyter Refactoring for Beginners\n",
    "\n",
    "<img src=\"../assets/Title.png\" width=\"800\">"
   ]
  },
  {
   "cell_type": "markdown",
   "metadata": {
    "slideshow": {
     "slide_type": "subslide"
    }
   },
   "source": [
    "## Workshop structure\n",
    "\n",
    "- [Introduction](#Introduction)\n",
    "- [Why Refactoring is needed](#Why-Refactoring-is-needed)\n",
    "- [How to refactor your code (prerequisites)](#How-to-refactor-your-code-(prerequisites))\n",
    "- [How to write cleaner and more efficient code in Pythonic way](#How-to-write-cleaner-and-more-efficient-code-in-Pythonic-way)\n",
    "- [Bonus](#Bonus)\n",
    "- [Q&A time](#Q&A-time)"
   ]
  },
  {
   "cell_type": "markdown",
   "metadata": {},
   "source": [
    "## Introduction\n",
    "\n",
    "### About me\n",
    "**Alyona Galyeva**: [Principal Data Solutions Engineer at LINKIT](https://www.linkit.nl/en) and [Organiser at PyLadies Amsterdam](https://amsterdam.pyladies.com/)\n",
    "\n",
    "<img src=\"../assets/PyLadies1.jpg\" width=\"800\">  \n",
    "\n",
    "<img src=\"../assets/PyLadies2.jpg\" width=\"800\">  \n",
    "\n",
    "<img src=\"../assets/PyLadies3.jpg\" width=\"800\"> \n",
    "\n",
    "Feel free to contact me via LinkedIn: https://www.linkedin.com/in/alyonagalyeva/\n"
   ]
  },
  {
   "cell_type": "markdown",
   "metadata": {},
   "source": [
    "## Why Refactoring is needed\n",
    "\n"
   ]
  },
  {
   "cell_type": "markdown",
   "metadata": {},
   "source": [
    "![Awesome script](https://chezsoi.org/lucas/blog/images/wwcb/Ill_just_write_a_quick_script...-catacrac.net.png)"
   ]
  },
  {
   "cell_type": "markdown",
   "metadata": {},
   "source": [
    "### Welcome to the land of Spaghetti code and Big Ball of Mud"
   ]
  },
  {
   "cell_type": "code",
   "execution_count": 5,
   "metadata": {},
   "outputs": [
    {
     "name": "stdout",
     "output_type": "stream",
     "text": [
      "Requirement already satisfied: pytest in c:\\users\\espop\\anaconda\\lib\\site-packages (6.0.0)\n",
      "Requirement already satisfied: importlib-metadata>=0.12; python_version < \"3.8\" in c:\\users\\espop\\anaconda\\lib\\site-packages (from pytest) (1.5.0)\n",
      "Requirement already satisfied: more-itertools>=4.0.0 in c:\\users\\espop\\anaconda\\lib\\site-packages (from pytest) (8.2.0)\n",
      "Requirement already satisfied: py>=1.8.2 in c:\\users\\espop\\anaconda\\lib\\site-packages (from pytest) (1.9.0)\n",
      "Requirement already satisfied: atomicwrites>=1.0; sys_platform == \"win32\" in c:\\users\\espop\\anaconda\\lib\\site-packages (from pytest) (1.3.0)\n",
      "Requirement already satisfied: colorama; sys_platform == \"win32\" in c:\\users\\espop\\anaconda\\lib\\site-packages (from pytest) (0.4.3)\n",
      "Requirement already satisfied: toml in c:\\users\\espop\\anaconda\\lib\\site-packages (from pytest) (0.10.1)\n",
      "Requirement already satisfied: packaging in c:\\users\\espop\\anaconda\\lib\\site-packages (from pytest) (20.1)\n",
      "Requirement already satisfied: iniconfig in c:\\users\\espop\\anaconda\\lib\\site-packages (from pytest) (1.0.0)\n",
      "Requirement already satisfied: pluggy<1.0,>=0.12 in c:\\users\\espop\\anaconda\\lib\\site-packages (from pytest) (0.13.1)\n",
      "Requirement already satisfied: attrs>=17.4.0 in c:\\users\\espop\\anaconda\\lib\\site-packages (from pytest) (19.3.0)\n",
      "Requirement already satisfied: zipp>=0.5 in c:\\users\\espop\\anaconda\\lib\\site-packages (from importlib-metadata>=0.12; python_version < \"3.8\"->pytest) (2.2.0)\n",
      "Requirement already satisfied: pyparsing>=2.0.2 in c:\\users\\espop\\anaconda\\lib\\site-packages (from packaging->pytest) (2.4.6)\n",
      "Requirement already satisfied: six in c:\\users\\espop\\anaconda\\lib\\site-packages (from packaging->pytest) (1.14.0)\n",
      "Requirement already satisfied: ipytest in c:\\users\\espop\\anaconda\\lib\\site-packages (0.9.1)\n",
      "Requirement already satisfied: pytest>=5.4 in c:\\users\\espop\\anaconda\\lib\\site-packages (from ipytest) (6.0.0)\n",
      "Requirement already satisfied: packaging in c:\\users\\espop\\anaconda\\lib\\site-packages (from ipytest) (20.1)\n",
      "Requirement already satisfied: ipython in c:\\users\\espop\\anaconda\\lib\\site-packages (from ipytest) (7.12.0)\n",
      "Requirement already satisfied: attrs>=17.4.0 in c:\\users\\espop\\anaconda\\lib\\site-packages (from pytest>=5.4->ipytest) (19.3.0)\n",
      "Requirement already satisfied: iniconfig in c:\\users\\espop\\anaconda\\lib\\site-packages (from pytest>=5.4->ipytest) (1.0.0)\n",
      "Requirement already satisfied: pluggy<1.0,>=0.12 in c:\\users\\espop\\anaconda\\lib\\site-packages (from pytest>=5.4->ipytest) (0.13.1)\n",
      "Requirement already satisfied: importlib-metadata>=0.12; python_version < \"3.8\" in c:\\users\\espop\\anaconda\\lib\\site-packages (from pytest>=5.4->ipytest) (1.5.0)\n",
      "Requirement already satisfied: colorama; sys_platform == \"win32\" in c:\\users\\espop\\anaconda\\lib\\site-packages (from pytest>=5.4->ipytest) (0.4.3)\n",
      "Requirement already satisfied: atomicwrites>=1.0; sys_platform == \"win32\" in c:\\users\\espop\\anaconda\\lib\\site-packages (from pytest>=5.4->ipytest) (1.3.0)\n",
      "Requirement already satisfied: toml in c:\\users\\espop\\anaconda\\lib\\site-packages (from pytest>=5.4->ipytest) (0.10.1)\n",
      "Requirement already satisfied: more-itertools>=4.0.0 in c:\\users\\espop\\anaconda\\lib\\site-packages (from pytest>=5.4->ipytest) (8.2.0)\n",
      "Requirement already satisfied: py>=1.8.2 in c:\\users\\espop\\anaconda\\lib\\site-packages (from pytest>=5.4->ipytest) (1.9.0)\n",
      "Requirement already satisfied: pyparsing>=2.0.2 in c:\\users\\espop\\anaconda\\lib\\site-packages (from packaging->ipytest) (2.4.6)\n",
      "Requirement already satisfied: six in c:\\users\\espop\\anaconda\\lib\\site-packages (from packaging->ipytest) (1.14.0)\n",
      "Requirement already satisfied: jedi>=0.10 in c:\\users\\espop\\anaconda\\lib\\site-packages (from ipython->ipytest) (0.15.2)\n",
      "Requirement already satisfied: pygments in c:\\users\\espop\\anaconda\\lib\\site-packages (from ipython->ipytest) (2.5.2)\n",
      "Requirement already satisfied: setuptools>=18.5 in c:\\users\\espop\\anaconda\\lib\\site-packages (from ipython->ipytest) (45.2.0.post20200210)\n",
      "Requirement already satisfied: backcall in c:\\users\\espop\\anaconda\\lib\\site-packages (from ipython->ipytest) (0.1.0)\n",
      "Requirement already satisfied: pickleshare in c:\\users\\espop\\anaconda\\lib\\site-packages (from ipython->ipytest) (0.7.5)\n",
      "Requirement already satisfied: traitlets>=4.2 in c:\\users\\espop\\anaconda\\lib\\site-packages (from ipython->ipytest) (4.3.3)\n",
      "Requirement already satisfied: prompt-toolkit!=3.0.0,!=3.0.1,<3.1.0,>=2.0.0 in c:\\users\\espop\\anaconda\\lib\\site-packages (from ipython->ipytest) (3.0.3)\n",
      "Requirement already satisfied: decorator in c:\\users\\espop\\anaconda\\lib\\site-packages (from ipython->ipytest) (4.4.1)\n",
      "Requirement already satisfied: zipp>=0.5 in c:\\users\\espop\\anaconda\\lib\\site-packages (from importlib-metadata>=0.12; python_version < \"3.8\"->pytest>=5.4->ipytest) (2.2.0)\n",
      "Requirement already satisfied: parso>=0.5.2 in c:\\users\\espop\\anaconda\\lib\\site-packages (from jedi>=0.10->ipython->ipytest) (0.5.2)\n",
      "Requirement already satisfied: ipython-genutils in c:\\users\\espop\\anaconda\\lib\\site-packages (from traitlets>=4.2->ipython->ipytest) (0.2.0)\n",
      "Requirement already satisfied: wcwidth in c:\\users\\espop\\anaconda\\lib\\site-packages (from prompt-toolkit!=3.0.0,!=3.0.1,<3.1.0,>=2.0.0->ipython->ipytest) (0.1.8)\n"
     ]
    }
   ],
   "source": [
    "!pip install pytest\n",
    "!pip install ipytest"
   ]
  },
  {
   "cell_type": "code",
   "execution_count": 6,
   "metadata": {
    "tags": []
   },
   "outputs": [
    {
     "name": "stdout",
     "output_type": "stream",
     "text": [
      "The autoreload extension is already loaded. To reload it, use:\n",
      "  %reload_ext autoreload\n"
     ]
    }
   ],
   "source": [
    "%load_ext autoreload\n",
    "%autoreload 2\n",
    "%matplotlib inline\n",
    "\n",
    "import matplotlib.pyplot as plt\n",
    "import numpy as np\n",
    "import pandas as pd\n",
    "import ipytest\n",
    "import pytest\n",
    "\n",
    "ipytest.autoconfig()\n",
    "pd.set_option(\"display.max_columns\", None) "
   ]
  },
  {
   "cell_type": "code",
   "execution_count": 7,
   "metadata": {},
   "outputs": [],
   "source": [
    "# DO NOT REPEAT THIS AT HOME !!! IT IS DANGEROUS AND CONTAGIOUS !!!\n",
    "file = \"data/Boston_housing_prices.csv\"\n",
    "names = ['CRIM', 'ZN', 'INDUS', 'CHAS', 'NOX', 'RM', 'AGE', 'DIS', 'RAD', 'TAX', 'PTRATIO', 'B', 'LSTAT', 'MEDV']\n",
    "df=pd.read_csv(file, delim_whitespace=True, names=names)"
   ]
  },
  {
   "cell_type": "code",
   "execution_count": 8,
   "metadata": {},
   "outputs": [
    {
     "data": {
      "text/html": [
       "<div>\n",
       "<style scoped>\n",
       "    .dataframe tbody tr th:only-of-type {\n",
       "        vertical-align: middle;\n",
       "    }\n",
       "\n",
       "    .dataframe tbody tr th {\n",
       "        vertical-align: top;\n",
       "    }\n",
       "\n",
       "    .dataframe thead th {\n",
       "        text-align: right;\n",
       "    }\n",
       "</style>\n",
       "<table border=\"1\" class=\"dataframe\">\n",
       "  <thead>\n",
       "    <tr style=\"text-align: right;\">\n",
       "      <th></th>\n",
       "      <th>CRIM</th>\n",
       "      <th>ZN</th>\n",
       "      <th>INDUS</th>\n",
       "      <th>CHAS</th>\n",
       "      <th>NOX</th>\n",
       "      <th>RM</th>\n",
       "      <th>AGE</th>\n",
       "      <th>DIS</th>\n",
       "      <th>RAD</th>\n",
       "      <th>TAX</th>\n",
       "      <th>PTRATIO</th>\n",
       "      <th>B</th>\n",
       "      <th>LSTAT</th>\n",
       "      <th>MEDV</th>\n",
       "    </tr>\n",
       "  </thead>\n",
       "  <tbody>\n",
       "    <tr>\n",
       "      <th>0</th>\n",
       "      <td>0.00632</td>\n",
       "      <td>18.0</td>\n",
       "      <td>2.31</td>\n",
       "      <td>0</td>\n",
       "      <td>0.538</td>\n",
       "      <td>6.575</td>\n",
       "      <td>65.2</td>\n",
       "      <td>4.0900</td>\n",
       "      <td>1</td>\n",
       "      <td>296.0</td>\n",
       "      <td>15.3</td>\n",
       "      <td>396.90</td>\n",
       "      <td>4.98</td>\n",
       "      <td>24.0</td>\n",
       "    </tr>\n",
       "    <tr>\n",
       "      <th>1</th>\n",
       "      <td>0.02731</td>\n",
       "      <td>0.0</td>\n",
       "      <td>7.07</td>\n",
       "      <td>0</td>\n",
       "      <td>0.469</td>\n",
       "      <td>6.421</td>\n",
       "      <td>78.9</td>\n",
       "      <td>4.9671</td>\n",
       "      <td>2</td>\n",
       "      <td>242.0</td>\n",
       "      <td>17.8</td>\n",
       "      <td>396.90</td>\n",
       "      <td>9.14</td>\n",
       "      <td>21.6</td>\n",
       "    </tr>\n",
       "    <tr>\n",
       "      <th>2</th>\n",
       "      <td>0.02729</td>\n",
       "      <td>0.0</td>\n",
       "      <td>7.07</td>\n",
       "      <td>0</td>\n",
       "      <td>0.469</td>\n",
       "      <td>7.185</td>\n",
       "      <td>61.1</td>\n",
       "      <td>4.9671</td>\n",
       "      <td>2</td>\n",
       "      <td>242.0</td>\n",
       "      <td>17.8</td>\n",
       "      <td>392.83</td>\n",
       "      <td>4.03</td>\n",
       "      <td>34.7</td>\n",
       "    </tr>\n",
       "    <tr>\n",
       "      <th>3</th>\n",
       "      <td>0.03237</td>\n",
       "      <td>0.0</td>\n",
       "      <td>2.18</td>\n",
       "      <td>0</td>\n",
       "      <td>0.458</td>\n",
       "      <td>6.998</td>\n",
       "      <td>45.8</td>\n",
       "      <td>6.0622</td>\n",
       "      <td>3</td>\n",
       "      <td>222.0</td>\n",
       "      <td>18.7</td>\n",
       "      <td>394.63</td>\n",
       "      <td>2.94</td>\n",
       "      <td>33.4</td>\n",
       "    </tr>\n",
       "    <tr>\n",
       "      <th>4</th>\n",
       "      <td>0.06905</td>\n",
       "      <td>0.0</td>\n",
       "      <td>2.18</td>\n",
       "      <td>0</td>\n",
       "      <td>0.458</td>\n",
       "      <td>7.147</td>\n",
       "      <td>54.2</td>\n",
       "      <td>6.0622</td>\n",
       "      <td>3</td>\n",
       "      <td>222.0</td>\n",
       "      <td>18.7</td>\n",
       "      <td>396.90</td>\n",
       "      <td>5.33</td>\n",
       "      <td>36.2</td>\n",
       "    </tr>\n",
       "  </tbody>\n",
       "</table>\n",
       "</div>"
      ],
      "text/plain": [
       "      CRIM    ZN  INDUS  CHAS    NOX     RM   AGE     DIS  RAD    TAX  \\\n",
       "0  0.00632  18.0   2.31     0  0.538  6.575  65.2  4.0900    1  296.0   \n",
       "1  0.02731   0.0   7.07     0  0.469  6.421  78.9  4.9671    2  242.0   \n",
       "2  0.02729   0.0   7.07     0  0.469  7.185  61.1  4.9671    2  242.0   \n",
       "3  0.03237   0.0   2.18     0  0.458  6.998  45.8  6.0622    3  222.0   \n",
       "4  0.06905   0.0   2.18     0  0.458  7.147  54.2  6.0622    3  222.0   \n",
       "\n",
       "   PTRATIO       B  LSTAT  MEDV  \n",
       "0     15.3  396.90   4.98  24.0  \n",
       "1     17.8  396.90   9.14  21.6  \n",
       "2     17.8  392.83   4.03  34.7  \n",
       "3     18.7  394.63   2.94  33.4  \n",
       "4     18.7  396.90   5.33  36.2  "
      ]
     },
     "execution_count": 8,
     "metadata": {},
     "output_type": "execute_result"
    }
   ],
   "source": [
    "df.head()"
   ]
  },
  {
   "cell_type": "code",
   "execution_count": 9,
   "metadata": {},
   "outputs": [],
   "source": [
    "df1=df[df['CHAS'] > 0]"
   ]
  },
  {
   "cell_type": "code",
   "execution_count": 10,
   "metadata": {},
   "outputs": [
    {
     "data": {
      "text/html": [
       "<div>\n",
       "<style scoped>\n",
       "    .dataframe tbody tr th:only-of-type {\n",
       "        vertical-align: middle;\n",
       "    }\n",
       "\n",
       "    .dataframe tbody tr th {\n",
       "        vertical-align: top;\n",
       "    }\n",
       "\n",
       "    .dataframe thead th {\n",
       "        text-align: right;\n",
       "    }\n",
       "</style>\n",
       "<table border=\"1\" class=\"dataframe\">\n",
       "  <thead>\n",
       "    <tr style=\"text-align: right;\">\n",
       "      <th></th>\n",
       "      <th>CRIM</th>\n",
       "      <th>ZN</th>\n",
       "      <th>INDUS</th>\n",
       "      <th>CHAS</th>\n",
       "      <th>NOX</th>\n",
       "      <th>RM</th>\n",
       "      <th>AGE</th>\n",
       "      <th>DIS</th>\n",
       "      <th>RAD</th>\n",
       "      <th>TAX</th>\n",
       "      <th>PTRATIO</th>\n",
       "      <th>B</th>\n",
       "      <th>LSTAT</th>\n",
       "      <th>MEDV</th>\n",
       "    </tr>\n",
       "  </thead>\n",
       "  <tbody>\n",
       "    <tr>\n",
       "      <th>142</th>\n",
       "      <td>3.32105</td>\n",
       "      <td>0.0</td>\n",
       "      <td>19.58</td>\n",
       "      <td>1</td>\n",
       "      <td>0.871</td>\n",
       "      <td>5.403</td>\n",
       "      <td>100.0</td>\n",
       "      <td>1.3216</td>\n",
       "      <td>5</td>\n",
       "      <td>403.0</td>\n",
       "      <td>14.7</td>\n",
       "      <td>396.90</td>\n",
       "      <td>26.82</td>\n",
       "      <td>13.4</td>\n",
       "    </tr>\n",
       "    <tr>\n",
       "      <th>152</th>\n",
       "      <td>1.12658</td>\n",
       "      <td>0.0</td>\n",
       "      <td>19.58</td>\n",
       "      <td>1</td>\n",
       "      <td>0.871</td>\n",
       "      <td>5.012</td>\n",
       "      <td>88.0</td>\n",
       "      <td>1.6102</td>\n",
       "      <td>5</td>\n",
       "      <td>403.0</td>\n",
       "      <td>14.7</td>\n",
       "      <td>343.28</td>\n",
       "      <td>12.12</td>\n",
       "      <td>15.3</td>\n",
       "    </tr>\n",
       "    <tr>\n",
       "      <th>154</th>\n",
       "      <td>1.41385</td>\n",
       "      <td>0.0</td>\n",
       "      <td>19.58</td>\n",
       "      <td>1</td>\n",
       "      <td>0.871</td>\n",
       "      <td>6.129</td>\n",
       "      <td>96.0</td>\n",
       "      <td>1.7494</td>\n",
       "      <td>5</td>\n",
       "      <td>403.0</td>\n",
       "      <td>14.7</td>\n",
       "      <td>321.02</td>\n",
       "      <td>15.12</td>\n",
       "      <td>17.0</td>\n",
       "    </tr>\n",
       "    <tr>\n",
       "      <th>155</th>\n",
       "      <td>3.53501</td>\n",
       "      <td>0.0</td>\n",
       "      <td>19.58</td>\n",
       "      <td>1</td>\n",
       "      <td>0.871</td>\n",
       "      <td>6.152</td>\n",
       "      <td>82.6</td>\n",
       "      <td>1.7455</td>\n",
       "      <td>5</td>\n",
       "      <td>403.0</td>\n",
       "      <td>14.7</td>\n",
       "      <td>88.01</td>\n",
       "      <td>15.02</td>\n",
       "      <td>15.6</td>\n",
       "    </tr>\n",
       "    <tr>\n",
       "      <th>160</th>\n",
       "      <td>1.27346</td>\n",
       "      <td>0.0</td>\n",
       "      <td>19.58</td>\n",
       "      <td>1</td>\n",
       "      <td>0.605</td>\n",
       "      <td>6.250</td>\n",
       "      <td>92.6</td>\n",
       "      <td>1.7984</td>\n",
       "      <td>5</td>\n",
       "      <td>403.0</td>\n",
       "      <td>14.7</td>\n",
       "      <td>338.92</td>\n",
       "      <td>5.50</td>\n",
       "      <td>27.0</td>\n",
       "    </tr>\n",
       "  </tbody>\n",
       "</table>\n",
       "</div>"
      ],
      "text/plain": [
       "        CRIM   ZN  INDUS  CHAS    NOX     RM    AGE     DIS  RAD    TAX  \\\n",
       "142  3.32105  0.0  19.58     1  0.871  5.403  100.0  1.3216    5  403.0   \n",
       "152  1.12658  0.0  19.58     1  0.871  5.012   88.0  1.6102    5  403.0   \n",
       "154  1.41385  0.0  19.58     1  0.871  6.129   96.0  1.7494    5  403.0   \n",
       "155  3.53501  0.0  19.58     1  0.871  6.152   82.6  1.7455    5  403.0   \n",
       "160  1.27346  0.0  19.58     1  0.605  6.250   92.6  1.7984    5  403.0   \n",
       "\n",
       "     PTRATIO       B  LSTAT  MEDV  \n",
       "142     14.7  396.90  26.82  13.4  \n",
       "152     14.7  343.28  12.12  15.3  \n",
       "154     14.7  321.02  15.12  17.0  \n",
       "155     14.7   88.01  15.02  15.6  \n",
       "160     14.7  338.92   5.50  27.0  "
      ]
     },
     "execution_count": 10,
     "metadata": {},
     "output_type": "execute_result"
    }
   ],
   "source": [
    "df1.head()"
   ]
  },
  {
   "cell_type": "code",
   "execution_count": 11,
   "metadata": {},
   "outputs": [],
   "source": [
    "df2=df[df['AGE']==45.8]"
   ]
  },
  {
   "cell_type": "code",
   "execution_count": 12,
   "metadata": {},
   "outputs": [
    {
     "data": {
      "text/html": [
       "<div>\n",
       "<style scoped>\n",
       "    .dataframe tbody tr th:only-of-type {\n",
       "        vertical-align: middle;\n",
       "    }\n",
       "\n",
       "    .dataframe tbody tr th {\n",
       "        vertical-align: top;\n",
       "    }\n",
       "\n",
       "    .dataframe thead th {\n",
       "        text-align: right;\n",
       "    }\n",
       "</style>\n",
       "<table border=\"1\" class=\"dataframe\">\n",
       "  <thead>\n",
       "    <tr style=\"text-align: right;\">\n",
       "      <th></th>\n",
       "      <th>CRIM</th>\n",
       "      <th>ZN</th>\n",
       "      <th>INDUS</th>\n",
       "      <th>CHAS</th>\n",
       "      <th>NOX</th>\n",
       "      <th>RM</th>\n",
       "      <th>AGE</th>\n",
       "      <th>DIS</th>\n",
       "      <th>RAD</th>\n",
       "      <th>TAX</th>\n",
       "      <th>PTRATIO</th>\n",
       "      <th>B</th>\n",
       "      <th>LSTAT</th>\n",
       "      <th>MEDV</th>\n",
       "    </tr>\n",
       "  </thead>\n",
       "  <tbody>\n",
       "    <tr>\n",
       "      <th>3</th>\n",
       "      <td>0.03237</td>\n",
       "      <td>0.0</td>\n",
       "      <td>2.18</td>\n",
       "      <td>0</td>\n",
       "      <td>0.458</td>\n",
       "      <td>6.998</td>\n",
       "      <td>45.8</td>\n",
       "      <td>6.0622</td>\n",
       "      <td>3</td>\n",
       "      <td>222.0</td>\n",
       "      <td>18.7</td>\n",
       "      <td>394.63</td>\n",
       "      <td>2.94</td>\n",
       "      <td>33.4</td>\n",
       "    </tr>\n",
       "    <tr>\n",
       "      <th>77</th>\n",
       "      <td>0.08707</td>\n",
       "      <td>0.0</td>\n",
       "      <td>12.83</td>\n",
       "      <td>0</td>\n",
       "      <td>0.437</td>\n",
       "      <td>6.140</td>\n",
       "      <td>45.8</td>\n",
       "      <td>4.0905</td>\n",
       "      <td>5</td>\n",
       "      <td>398.0</td>\n",
       "      <td>18.7</td>\n",
       "      <td>386.96</td>\n",
       "      <td>10.27</td>\n",
       "      <td>20.8</td>\n",
       "    </tr>\n",
       "  </tbody>\n",
       "</table>\n",
       "</div>"
      ],
      "text/plain": [
       "       CRIM   ZN  INDUS  CHAS    NOX     RM   AGE     DIS  RAD    TAX  \\\n",
       "3   0.03237  0.0   2.18     0  0.458  6.998  45.8  6.0622    3  222.0   \n",
       "77  0.08707  0.0  12.83     0  0.437  6.140  45.8  4.0905    5  398.0   \n",
       "\n",
       "    PTRATIO       B  LSTAT  MEDV  \n",
       "3      18.7  394.63   2.94  33.4  \n",
       "77     18.7  386.96  10.27  20.8  "
      ]
     },
     "execution_count": 12,
     "metadata": {},
     "output_type": "execute_result"
    }
   ],
   "source": [
    "df2.head()"
   ]
  },
  {
   "cell_type": "code",
   "execution_count": 13,
   "metadata": {},
   "outputs": [],
   "source": [
    "df3=df.rename(str.lower, axis='columns')"
   ]
  },
  {
   "cell_type": "code",
   "execution_count": 14,
   "metadata": {},
   "outputs": [
    {
     "data": {
      "text/html": [
       "<div>\n",
       "<style scoped>\n",
       "    .dataframe tbody tr th:only-of-type {\n",
       "        vertical-align: middle;\n",
       "    }\n",
       "\n",
       "    .dataframe tbody tr th {\n",
       "        vertical-align: top;\n",
       "    }\n",
       "\n",
       "    .dataframe thead th {\n",
       "        text-align: right;\n",
       "    }\n",
       "</style>\n",
       "<table border=\"1\" class=\"dataframe\">\n",
       "  <thead>\n",
       "    <tr style=\"text-align: right;\">\n",
       "      <th></th>\n",
       "      <th>crim</th>\n",
       "      <th>zn</th>\n",
       "      <th>indus</th>\n",
       "      <th>chas</th>\n",
       "      <th>nox</th>\n",
       "      <th>rm</th>\n",
       "      <th>age</th>\n",
       "      <th>dis</th>\n",
       "      <th>rad</th>\n",
       "      <th>tax</th>\n",
       "      <th>ptratio</th>\n",
       "      <th>b</th>\n",
       "      <th>lstat</th>\n",
       "      <th>medv</th>\n",
       "    </tr>\n",
       "  </thead>\n",
       "  <tbody>\n",
       "    <tr>\n",
       "      <th>0</th>\n",
       "      <td>0.00632</td>\n",
       "      <td>18.0</td>\n",
       "      <td>2.31</td>\n",
       "      <td>0</td>\n",
       "      <td>0.538</td>\n",
       "      <td>6.575</td>\n",
       "      <td>65.2</td>\n",
       "      <td>4.0900</td>\n",
       "      <td>1</td>\n",
       "      <td>296.0</td>\n",
       "      <td>15.3</td>\n",
       "      <td>396.90</td>\n",
       "      <td>4.98</td>\n",
       "      <td>24.0</td>\n",
       "    </tr>\n",
       "    <tr>\n",
       "      <th>1</th>\n",
       "      <td>0.02731</td>\n",
       "      <td>0.0</td>\n",
       "      <td>7.07</td>\n",
       "      <td>0</td>\n",
       "      <td>0.469</td>\n",
       "      <td>6.421</td>\n",
       "      <td>78.9</td>\n",
       "      <td>4.9671</td>\n",
       "      <td>2</td>\n",
       "      <td>242.0</td>\n",
       "      <td>17.8</td>\n",
       "      <td>396.90</td>\n",
       "      <td>9.14</td>\n",
       "      <td>21.6</td>\n",
       "    </tr>\n",
       "    <tr>\n",
       "      <th>2</th>\n",
       "      <td>0.02729</td>\n",
       "      <td>0.0</td>\n",
       "      <td>7.07</td>\n",
       "      <td>0</td>\n",
       "      <td>0.469</td>\n",
       "      <td>7.185</td>\n",
       "      <td>61.1</td>\n",
       "      <td>4.9671</td>\n",
       "      <td>2</td>\n",
       "      <td>242.0</td>\n",
       "      <td>17.8</td>\n",
       "      <td>392.83</td>\n",
       "      <td>4.03</td>\n",
       "      <td>34.7</td>\n",
       "    </tr>\n",
       "    <tr>\n",
       "      <th>3</th>\n",
       "      <td>0.03237</td>\n",
       "      <td>0.0</td>\n",
       "      <td>2.18</td>\n",
       "      <td>0</td>\n",
       "      <td>0.458</td>\n",
       "      <td>6.998</td>\n",
       "      <td>45.8</td>\n",
       "      <td>6.0622</td>\n",
       "      <td>3</td>\n",
       "      <td>222.0</td>\n",
       "      <td>18.7</td>\n",
       "      <td>394.63</td>\n",
       "      <td>2.94</td>\n",
       "      <td>33.4</td>\n",
       "    </tr>\n",
       "    <tr>\n",
       "      <th>4</th>\n",
       "      <td>0.06905</td>\n",
       "      <td>0.0</td>\n",
       "      <td>2.18</td>\n",
       "      <td>0</td>\n",
       "      <td>0.458</td>\n",
       "      <td>7.147</td>\n",
       "      <td>54.2</td>\n",
       "      <td>6.0622</td>\n",
       "      <td>3</td>\n",
       "      <td>222.0</td>\n",
       "      <td>18.7</td>\n",
       "      <td>396.90</td>\n",
       "      <td>5.33</td>\n",
       "      <td>36.2</td>\n",
       "    </tr>\n",
       "  </tbody>\n",
       "</table>\n",
       "</div>"
      ],
      "text/plain": [
       "      crim    zn  indus  chas    nox     rm   age     dis  rad    tax  \\\n",
       "0  0.00632  18.0   2.31     0  0.538  6.575  65.2  4.0900    1  296.0   \n",
       "1  0.02731   0.0   7.07     0  0.469  6.421  78.9  4.9671    2  242.0   \n",
       "2  0.02729   0.0   7.07     0  0.469  7.185  61.1  4.9671    2  242.0   \n",
       "3  0.03237   0.0   2.18     0  0.458  6.998  45.8  6.0622    3  222.0   \n",
       "4  0.06905   0.0   2.18     0  0.458  7.147  54.2  6.0622    3  222.0   \n",
       "\n",
       "   ptratio       b  lstat  medv  \n",
       "0     15.3  396.90   4.98  24.0  \n",
       "1     17.8  396.90   9.14  21.6  \n",
       "2     17.8  392.83   4.03  34.7  \n",
       "3     18.7  394.63   2.94  33.4  \n",
       "4     18.7  396.90   5.33  36.2  "
      ]
     },
     "execution_count": 14,
     "metadata": {},
     "output_type": "execute_result"
    }
   ],
   "source": [
    "df3.head()"
   ]
  },
  {
   "cell_type": "code",
   "execution_count": 15,
   "metadata": {},
   "outputs": [],
   "source": [
    "# Hoerra, we have a function !!!\n",
    "def twicecol(df, dfcol):\n",
    "    df['twicecol'] = df[dfcol] * df[dfcol]\n",
    "    return df"
   ]
  },
  {
   "cell_type": "code",
   "execution_count": 16,
   "metadata": {},
   "outputs": [
    {
     "data": {
      "text/html": [
       "<div>\n",
       "<style scoped>\n",
       "    .dataframe tbody tr th:only-of-type {\n",
       "        vertical-align: middle;\n",
       "    }\n",
       "\n",
       "    .dataframe tbody tr th {\n",
       "        vertical-align: top;\n",
       "    }\n",
       "\n",
       "    .dataframe thead th {\n",
       "        text-align: right;\n",
       "    }\n",
       "</style>\n",
       "<table border=\"1\" class=\"dataframe\">\n",
       "  <thead>\n",
       "    <tr style=\"text-align: right;\">\n",
       "      <th></th>\n",
       "      <th>crim</th>\n",
       "      <th>zn</th>\n",
       "      <th>indus</th>\n",
       "      <th>chas</th>\n",
       "      <th>nox</th>\n",
       "      <th>rm</th>\n",
       "      <th>age</th>\n",
       "      <th>dis</th>\n",
       "      <th>rad</th>\n",
       "      <th>tax</th>\n",
       "      <th>ptratio</th>\n",
       "      <th>b</th>\n",
       "      <th>lstat</th>\n",
       "      <th>medv</th>\n",
       "      <th>twicecol</th>\n",
       "    </tr>\n",
       "  </thead>\n",
       "  <tbody>\n",
       "    <tr>\n",
       "      <th>0</th>\n",
       "      <td>0.00632</td>\n",
       "      <td>18.0</td>\n",
       "      <td>2.31</td>\n",
       "      <td>0</td>\n",
       "      <td>0.538</td>\n",
       "      <td>6.575</td>\n",
       "      <td>65.2</td>\n",
       "      <td>4.0900</td>\n",
       "      <td>1</td>\n",
       "      <td>296.0</td>\n",
       "      <td>15.3</td>\n",
       "      <td>396.90</td>\n",
       "      <td>4.98</td>\n",
       "      <td>24.0</td>\n",
       "      <td>0.289444</td>\n",
       "    </tr>\n",
       "    <tr>\n",
       "      <th>1</th>\n",
       "      <td>0.02731</td>\n",
       "      <td>0.0</td>\n",
       "      <td>7.07</td>\n",
       "      <td>0</td>\n",
       "      <td>0.469</td>\n",
       "      <td>6.421</td>\n",
       "      <td>78.9</td>\n",
       "      <td>4.9671</td>\n",
       "      <td>2</td>\n",
       "      <td>242.0</td>\n",
       "      <td>17.8</td>\n",
       "      <td>396.90</td>\n",
       "      <td>9.14</td>\n",
       "      <td>21.6</td>\n",
       "      <td>0.219961</td>\n",
       "    </tr>\n",
       "    <tr>\n",
       "      <th>2</th>\n",
       "      <td>0.02729</td>\n",
       "      <td>0.0</td>\n",
       "      <td>7.07</td>\n",
       "      <td>0</td>\n",
       "      <td>0.469</td>\n",
       "      <td>7.185</td>\n",
       "      <td>61.1</td>\n",
       "      <td>4.9671</td>\n",
       "      <td>2</td>\n",
       "      <td>242.0</td>\n",
       "      <td>17.8</td>\n",
       "      <td>392.83</td>\n",
       "      <td>4.03</td>\n",
       "      <td>34.7</td>\n",
       "      <td>0.219961</td>\n",
       "    </tr>\n",
       "    <tr>\n",
       "      <th>3</th>\n",
       "      <td>0.03237</td>\n",
       "      <td>0.0</td>\n",
       "      <td>2.18</td>\n",
       "      <td>0</td>\n",
       "      <td>0.458</td>\n",
       "      <td>6.998</td>\n",
       "      <td>45.8</td>\n",
       "      <td>6.0622</td>\n",
       "      <td>3</td>\n",
       "      <td>222.0</td>\n",
       "      <td>18.7</td>\n",
       "      <td>394.63</td>\n",
       "      <td>2.94</td>\n",
       "      <td>33.4</td>\n",
       "      <td>0.209764</td>\n",
       "    </tr>\n",
       "    <tr>\n",
       "      <th>4</th>\n",
       "      <td>0.06905</td>\n",
       "      <td>0.0</td>\n",
       "      <td>2.18</td>\n",
       "      <td>0</td>\n",
       "      <td>0.458</td>\n",
       "      <td>7.147</td>\n",
       "      <td>54.2</td>\n",
       "      <td>6.0622</td>\n",
       "      <td>3</td>\n",
       "      <td>222.0</td>\n",
       "      <td>18.7</td>\n",
       "      <td>396.90</td>\n",
       "      <td>5.33</td>\n",
       "      <td>36.2</td>\n",
       "      <td>0.209764</td>\n",
       "    </tr>\n",
       "  </tbody>\n",
       "</table>\n",
       "</div>"
      ],
      "text/plain": [
       "      crim    zn  indus  chas    nox     rm   age     dis  rad    tax  \\\n",
       "0  0.00632  18.0   2.31     0  0.538  6.575  65.2  4.0900    1  296.0   \n",
       "1  0.02731   0.0   7.07     0  0.469  6.421  78.9  4.9671    2  242.0   \n",
       "2  0.02729   0.0   7.07     0  0.469  7.185  61.1  4.9671    2  242.0   \n",
       "3  0.03237   0.0   2.18     0  0.458  6.998  45.8  6.0622    3  222.0   \n",
       "4  0.06905   0.0   2.18     0  0.458  7.147  54.2  6.0622    3  222.0   \n",
       "\n",
       "   ptratio       b  lstat  medv  twicecol  \n",
       "0     15.3  396.90   4.98  24.0  0.289444  \n",
       "1     17.8  396.90   9.14  21.6  0.219961  \n",
       "2     17.8  392.83   4.03  34.7  0.219961  \n",
       "3     18.7  394.63   2.94  33.4  0.209764  \n",
       "4     18.7  396.90   5.33  36.2  0.209764  "
      ]
     },
     "execution_count": 16,
     "metadata": {},
     "output_type": "execute_result"
    }
   ],
   "source": [
    "df4=twicecol(df3, 'nox')\n",
    "df4.head()"
   ]
  },
  {
   "cell_type": "code",
   "execution_count": 17,
   "metadata": {},
   "outputs": [
    {
     "data": {
      "text/html": [
       "<div>\n",
       "<style scoped>\n",
       "    .dataframe tbody tr th:only-of-type {\n",
       "        vertical-align: middle;\n",
       "    }\n",
       "\n",
       "    .dataframe tbody tr th {\n",
       "        vertical-align: top;\n",
       "    }\n",
       "\n",
       "    .dataframe thead th {\n",
       "        text-align: right;\n",
       "    }\n",
       "</style>\n",
       "<table border=\"1\" class=\"dataframe\">\n",
       "  <thead>\n",
       "    <tr style=\"text-align: right;\">\n",
       "      <th></th>\n",
       "      <th>crim</th>\n",
       "      <th>zn</th>\n",
       "      <th>indus</th>\n",
       "      <th>chas</th>\n",
       "      <th>nox</th>\n",
       "      <th>rm</th>\n",
       "      <th>age</th>\n",
       "      <th>dis</th>\n",
       "      <th>rad</th>\n",
       "      <th>tax</th>\n",
       "      <th>ptratio</th>\n",
       "      <th>b</th>\n",
       "      <th>lstat</th>\n",
       "      <th>medv</th>\n",
       "      <th>twicecol</th>\n",
       "    </tr>\n",
       "  </thead>\n",
       "  <tbody>\n",
       "    <tr>\n",
       "      <th>0</th>\n",
       "      <td>0.00632</td>\n",
       "      <td>18.0</td>\n",
       "      <td>2.31</td>\n",
       "      <td>0</td>\n",
       "      <td>0.538</td>\n",
       "      <td>6.575</td>\n",
       "      <td>65.2</td>\n",
       "      <td>4.0900</td>\n",
       "      <td>1</td>\n",
       "      <td>296.0</td>\n",
       "      <td>15.3</td>\n",
       "      <td>396.90</td>\n",
       "      <td>4.98</td>\n",
       "      <td>24.0</td>\n",
       "      <td>0.289444</td>\n",
       "    </tr>\n",
       "    <tr>\n",
       "      <th>1</th>\n",
       "      <td>0.02731</td>\n",
       "      <td>0.0</td>\n",
       "      <td>7.07</td>\n",
       "      <td>0</td>\n",
       "      <td>0.469</td>\n",
       "      <td>6.421</td>\n",
       "      <td>78.9</td>\n",
       "      <td>4.9671</td>\n",
       "      <td>2</td>\n",
       "      <td>242.0</td>\n",
       "      <td>17.8</td>\n",
       "      <td>396.90</td>\n",
       "      <td>9.14</td>\n",
       "      <td>21.6</td>\n",
       "      <td>0.219961</td>\n",
       "    </tr>\n",
       "    <tr>\n",
       "      <th>2</th>\n",
       "      <td>0.02729</td>\n",
       "      <td>0.0</td>\n",
       "      <td>7.07</td>\n",
       "      <td>0</td>\n",
       "      <td>0.469</td>\n",
       "      <td>7.185</td>\n",
       "      <td>61.1</td>\n",
       "      <td>4.9671</td>\n",
       "      <td>2</td>\n",
       "      <td>242.0</td>\n",
       "      <td>17.8</td>\n",
       "      <td>392.83</td>\n",
       "      <td>4.03</td>\n",
       "      <td>34.7</td>\n",
       "      <td>0.219961</td>\n",
       "    </tr>\n",
       "    <tr>\n",
       "      <th>3</th>\n",
       "      <td>0.03237</td>\n",
       "      <td>0.0</td>\n",
       "      <td>2.18</td>\n",
       "      <td>0</td>\n",
       "      <td>0.458</td>\n",
       "      <td>6.998</td>\n",
       "      <td>45.8</td>\n",
       "      <td>6.0622</td>\n",
       "      <td>3</td>\n",
       "      <td>222.0</td>\n",
       "      <td>18.7</td>\n",
       "      <td>394.63</td>\n",
       "      <td>2.94</td>\n",
       "      <td>33.4</td>\n",
       "      <td>0.209764</td>\n",
       "    </tr>\n",
       "    <tr>\n",
       "      <th>4</th>\n",
       "      <td>0.06905</td>\n",
       "      <td>0.0</td>\n",
       "      <td>2.18</td>\n",
       "      <td>0</td>\n",
       "      <td>0.458</td>\n",
       "      <td>7.147</td>\n",
       "      <td>54.2</td>\n",
       "      <td>6.0622</td>\n",
       "      <td>3</td>\n",
       "      <td>222.0</td>\n",
       "      <td>18.7</td>\n",
       "      <td>396.90</td>\n",
       "      <td>5.33</td>\n",
       "      <td>36.2</td>\n",
       "      <td>0.209764</td>\n",
       "    </tr>\n",
       "  </tbody>\n",
       "</table>\n",
       "</div>"
      ],
      "text/plain": [
       "      crim    zn  indus  chas    nox     rm   age     dis  rad    tax  \\\n",
       "0  0.00632  18.0   2.31     0  0.538  6.575  65.2  4.0900    1  296.0   \n",
       "1  0.02731   0.0   7.07     0  0.469  6.421  78.9  4.9671    2  242.0   \n",
       "2  0.02729   0.0   7.07     0  0.469  7.185  61.1  4.9671    2  242.0   \n",
       "3  0.03237   0.0   2.18     0  0.458  6.998  45.8  6.0622    3  222.0   \n",
       "4  0.06905   0.0   2.18     0  0.458  7.147  54.2  6.0622    3  222.0   \n",
       "\n",
       "   ptratio       b  lstat  medv  twicecol  \n",
       "0     15.3  396.90   4.98  24.0  0.289444  \n",
       "1     17.8  396.90   9.14  21.6  0.219961  \n",
       "2     17.8  392.83   4.03  34.7  0.219961  \n",
       "3     18.7  394.63   2.94  33.4  0.209764  \n",
       "4     18.7  396.90   5.33  36.2  0.209764  "
      ]
     },
     "execution_count": 17,
     "metadata": {},
     "output_type": "execute_result"
    }
   ],
   "source": [
    "# Oops, we mutated original dataframe df3, how it is even possible?\n",
    "df3.head()"
   ]
  },
  {
   "cell_type": "markdown",
   "metadata": {},
   "source": [
    "### \"Refactoring is an essential technique to allow a program to be changed safely. It consists of making small changes that don't alter the observable behavior of the software. \" - *Martin Fowler*"
   ]
  },
  {
   "cell_type": "markdown",
   "metadata": {},
   "source": [
    "**So, why do we need Refactoring?**\n",
    "\n",
    "- to understand the code\n",
    "- to improve the readability of code\n",
    "- to make it easier to enhance the code\n",
    "- to reduce time of bug hunting\n"
   ]
  },
  {
   "cell_type": "markdown",
   "metadata": {},
   "source": [
    "**What is Technical Debt?**\n",
    "\n",
    "1. It's a metaphor to describe problems with code design\n",
    "2. It's a lot of shortcuts taken for various reasons\n",
    "3. We borrow against future\n",
    "4. It needs to be paid off with refactoring"
   ]
  },
  {
   "cell_type": "markdown",
   "metadata": {},
   "source": [
    "**When to stop Refactoring?**\n",
    "\n",
    "- Stop when your refactoring step becomes too big\n",
    "- Stop when there is no ROI"
   ]
  },
  {
   "cell_type": "markdown",
   "metadata": {},
   "source": [
    "## How to refactor your code (prerequisites)\n"
   ]
  },
  {
   "cell_type": "markdown",
   "metadata": {},
   "source": [
    "### The art of Recognizing Issues in your code"
   ]
  },
  {
   "cell_type": "markdown",
   "metadata": {},
   "source": [
    "how comments can help or badly hurt you"
   ]
  },
  {
   "cell_type": "code",
   "execution_count": 18,
   "metadata": {},
   "outputs": [],
   "source": [
    "# give new names to the columns by renaming the columns and make each columns lowercase, use axis columns \n",
    "df3=df.rename(str.lower, axis='columns')"
   ]
  },
  {
   "cell_type": "code",
   "execution_count": 19,
   "metadata": {},
   "outputs": [
    {
     "data": {
      "text/plain": [
       "<matplotlib.axes._subplots.AxesSubplot at 0x17a34e62108>"
      ]
     },
     "execution_count": 19,
     "metadata": {},
     "output_type": "execute_result"
    },
    {
     "data": {
      "image/png": "[encoded data removed]",
      "text/plain": [
       "<Figure size 720x720 with 1 Axes>"
      ]
     },
     "metadata": {
      "needs_background": "light"
     },
     "output_type": "display_data"
    }
   ],
   "source": [
    "## Correlation with independent Variable (Note: Models like RF are not linear like these)\n",
    "df.columns\n",
    "df2 = df.drop('MEDV', axis=1)\n",
    "df.corrwith(df['MEDV']).plot.bar(\n",
    "        figsize = (10, 10), title = \"Correlation with MEDV\", fontsize = 15,\n",
    "        rot = 45, grid = True)"
   ]
  },
  {
   "cell_type": "markdown",
   "metadata": {},
   "source": [
    "confusing names"
   ]
  },
  {
   "cell_type": "code",
   "execution_count": 20,
   "metadata": {},
   "outputs": [],
   "source": [
    "# Remember our friends df, df1, df2 and this awesome function?\n",
    "def twicecol(df, dfcol):\n",
    "    df['twicecol'] = df[dfcol] * df[dfcol]\n",
    "    return df"
   ]
  },
  {
   "cell_type": "markdown",
   "metadata": {},
   "source": [
    "magic numbers"
   ]
  },
  {
   "cell_type": "code",
   "execution_count": 21,
   "metadata": {},
   "outputs": [
    {
     "name": "stdout",
     "output_type": "stream",
     "text": [
      "      CRIM    ZN  INDUS  CHAS    NOX     RM   AGE     DIS  RAD    TAX  \\\n",
      "0  0.00632  18.0   2.31     0  0.538  6.575  65.2  4.0900    1  296.0   \n",
      "1  0.02731   0.0   7.07     0  0.469  6.421  78.9  4.9671    2  242.0   \n",
      "2  0.02729   0.0   7.07     0  0.469  7.185  61.1  4.9671    2  242.0   \n",
      "3  0.03237   0.0   2.18     0  0.458  6.998  45.8  6.0622    3  222.0   \n",
      "4  0.06905   0.0   2.18     0  0.458  7.147  54.2  6.0622    3  222.0   \n",
      "\n",
      "   PTRATIO       B  LSTAT  MEDV  \n",
      "0     15.3  396.90   4.98  24.0  \n",
      "1     17.8  396.90   9.14  21.6  \n",
      "2     17.8  392.83   4.03  34.7  \n",
      "3     18.7  394.63   2.94  33.4  \n",
      "4     18.7  396.90   5.33  36.2  \n"
     ]
    }
   ],
   "source": [
    "# Somewhere in notebook\n",
    "val = 6\n",
    "\n",
    "# later somewhere at the end of the notebook\n",
    "grouped = df.groupby('TAX').agg([np.sum, np.mean, np.std])\n",
    "\n",
    "if val > 6:\n",
    "    print(grouped.head())\n",
    "else:\n",
    "    print(df.head())"
   ]
  },
  {
   "cell_type": "markdown",
   "metadata": {},
   "source": [
    "duplication and large code blocks are dangerous "
   ]
  },
  {
   "cell_type": "code",
   "execution_count": 22,
   "metadata": {},
   "outputs": [],
   "source": [
    "#Define X and y\n",
    "X = df2\n",
    "y = df.loc[:,'MEDV']\n",
    "\n",
    "from sklearn.model_selection import train_test_split\n",
    "X_train, X_test, y_train, y_test = train_test_split(X, y, test_size=0.2, random_state=0)\n",
    "\n",
    "#### Model Building ####\n",
    "### Comparing Models\n",
    "\n",
    "## Multiple Linear Regression Regression\n",
    "from sklearn.linear_model import LinearRegression\n",
    "regressor = LinearRegression()\n",
    "regressor.fit(X_train, y_train)\n",
    "\n",
    "# Predicting Test Set\n",
    "y_pred = regressor.predict(X_test)\n",
    "from sklearn import metrics\n",
    "mae = metrics.mean_absolute_error(y_test, y_pred)\n",
    "mse = metrics.mean_squared_error(y_test, y_pred)\n",
    "rmse = np.sqrt(metrics.mean_squared_error(y_test, y_pred))\n",
    "r2 = metrics.r2_score(y_test, y_pred)\n",
    "\n",
    "results = pd.DataFrame([['Multiple Linear Regression', mae, mse, rmse, r2]],\n",
    "               columns = ['Model', 'MAE', 'MSE', 'RMSE', 'R2 Score'])\n",
    "\n",
    "## Suport Vector Regression \n",
    "'Necessary Standard Scaler '\n",
    "from sklearn.svm import SVR\n",
    "regressor = SVR(kernel = 'rbf')\n",
    "regressor.fit(X_train, y_train)\n",
    "\n",
    "# Predicting Test Set\n",
    "y_pred = regressor.predict(X_test)\n",
    "from sklearn import metrics\n",
    "mae = metrics.mean_absolute_error(y_test, y_pred)\n",
    "mse = metrics.mean_squared_error(y_test, y_pred)\n",
    "rmse = np.sqrt(metrics.mean_squared_error(y_test, y_pred))\n",
    "r2 = metrics.r2_score(y_test, y_pred)\n",
    "\n",
    "model_results = pd.DataFrame([['Support Vector RBF', mae, mse, rmse, r2]],\n",
    "               columns = ['Model', 'MAE', 'MSE', 'RMSE', 'R2 Score'])\n",
    "\n",
    "results = results.append(model_results, ignore_index = True)\n",
    "\n",
    "## Decision Tree Regression\n",
    "from sklearn.tree import DecisionTreeRegressor\n",
    "regressor = DecisionTreeRegressor(random_state=0)\n",
    "regressor.fit(X_train, y_train)\n",
    "\n",
    "# Predicting Test Set\n",
    "y_pred = regressor.predict(X_test)\n",
    "from sklearn import metrics\n",
    "mae = metrics.mean_absolute_error(y_test, y_pred)\n",
    "mse = metrics.mean_squared_error(y_test, y_pred)\n",
    "rmse = np.sqrt(metrics.mean_squared_error(y_test, y_pred))\n",
    "r2 = metrics.r2_score(y_test, y_pred)\n",
    "\n",
    "model_results = pd.DataFrame([['Decision Tree Regression', mae, mse, rmse, r2]],\n",
    "               columns = ['Model', 'MAE', 'MSE', 'RMSE', 'R2 Score'])\n",
    "\n",
    "results = results.append(model_results, ignore_index = True)"
   ]
  },
  {
   "cell_type": "markdown",
   "metadata": {},
   "source": [
    "poor formatting"
   ]
  },
  {
   "cell_type": "code",
   "execution_count": 23,
   "metadata": {},
   "outputs": [
    {
     "data": {
      "image/png": "[encoded data removed]",
      "text/plain": [
       "<Figure size 720x720 with 13 Axes>"
      ]
     },
     "metadata": {
      "needs_background": "light"
     },
     "output_type": "display_data"
    }
   ],
   "source": [
    "fig=plt.figure( figsize=(10, 10) ); plt.suptitle( 'Histograms', fontsize=20 )\n",
    "for i in range(df2.shape[1]):\n",
    "    plt.subplot( 6,3,i+1);f = plt.gca();f.set_title(df2.columns.values[i])\n",
    "\n",
    "    vals = np.size(df2.iloc[:, i].unique())\n",
    "    if vals>=100: vals=100\n",
    "    \n",
    "    plt.hist(df2.iloc[:, i], bins=vals, color='#3F5D7D')\n",
    "plt.tight_layout(rect=[0, 0.03, 1, 0.95])"
   ]
  },
  {
   "cell_type": "markdown",
   "metadata": {},
   "source": [
    "zombie code"
   ]
  },
  {
   "cell_type": "code",
   "execution_count": 24,
   "metadata": {},
   "outputs": [],
   "source": [
    "#grid_sv = GridSearchCV(desc_tr, cv=kf, param_grid={\"max_depth\" : [1, 2, 3, 4, 5, 6, 7]}, scoring='neg_mean_squared_error')\n",
    "#grid_sv.fit(x_scaled, y)\n",
    "#print(\"Best classifier :\", grid_sv.best_estimator_)\n",
    "\n",
    "#grid_sv = GridSearchCV(knn, cv=kf, param_grid={\"n_neighbors\" : [2, 3, 4, 5, 6, 7]}, scoring='neg_mean_squared_error')\n",
    "#grid_sv.fit(x_scaled, y)\n",
    "#print(\"Best classifier :\", grid_sv.best_estimator_)"
   ]
  },
  {
   "cell_type": "markdown",
   "metadata": {},
   "source": [
    "## How to write cleaner and more efficient code in Pythonic way\n"
   ]
  },
  {
   "cell_type": "markdown",
   "metadata": {},
   "source": [
    "### Typical refactoring workflow"
   ]
  },
  {
   "cell_type": "markdown",
   "metadata": {},
   "source": [
    "- answer why refactoring is needed in this particular situation\n",
    "- git, conda environment (or venv) are your best friends\n",
    "- make a copy of a notebook you are going to refactor\n",
    "- fix the seed\n",
    "- define a layout for your refactored notebook\n",
    "- pick a chunk of code to refactor\n",
    "- if you created a function, write tests for this function, run tests. If success --> git commit\n",
    "- else update your function to make the tests pass --> git commit\n",
    "- repeat"
   ]
  },
  {
   "cell_type": "markdown",
   "metadata": {},
   "source": [
    "**Exercise 0:**\n",
    "\n",
    "Take a look at two notebooks in notebooks_to_refactor folder.\n",
    "\n",
    "Can you recognize some of the issues in the code? \n",
    "\n",
    "Is a goal of the notebooks clear enough?\n",
    "\n",
    "Is a structure of notebooks clear as well?"
   ]
  },
  {
   "cell_type": "markdown",
   "metadata": {},
   "source": [
    "### Are you ready to roll up the sleeves and start hands-on part together with me?"
   ]
  },
  {
   "cell_type": "markdown",
   "metadata": {},
   "source": [
    "### Refactoring techniques"
   ]
  },
  {
   "cell_type": "markdown",
   "metadata": {},
   "source": [
    "#### Rename\n",
    "\n",
    "Let's take a look at the most powerful and widely used refactoring technique: **Rename**\n",
    "\n",
    "What we can **Rename**:\n",
    "- a variable\n",
    "- a function\n",
    "- function parameters\n",
    "- a class\n",
    "- class attributes \n",
    "- class methods"
   ]
  },
  {
   "cell_type": "code",
   "execution_count": null,
   "metadata": {},
   "outputs": [],
   "source": [
    "x = (\"data/movies_metadata.csv\")\n",
    "df = pd.read_csv(x)\n",
    "df1 = df[df[\"budget\"] > 0]\n",
    "\n",
    "#rename variables \n",
    "filepath = (\"data/movies_metadata.csv\")\n",
    "movies = pd.read_csv(filepath, low_memory=False)\n",
    "movies_big_budget = df[df[\"budget\"] > 30000000]"
   ]
  },
  {
   "cell_type": "code",
   "execution_count": null,
   "metadata": {},
   "outputs": [],
   "source": [
    "def my_func(a, b):\n",
    "    return a.lower() + b.upper()\n",
    "\n",
    "#Rename function and its parameters \n",
    "def mix_lower_upper_case(first_param, second_param):\n",
    "    return first_param.lower() + second_param.upper()\n",
    "\n",
    "#We can add type hints for readability purposes\n",
    "def mix_lower_upper_case(first_param: str, second_param: str) -> str:\n",
    "    \"\"\" Concatenate two strings, cast the first string to lowercase and the second string to uppercase\"\"\"\n",
    "    return first_param.lower() + second_param.upper()\n",
    "\n",
    "# Add casting to a str to make sure that the function returns what expected\n",
    "def mix_lower_upper_case(first_param: str, second_param: str) -> str:\n",
    "    \"\"\" Concatenate two strings, cast the first string to lowercase and the second string to uppercase\"\"\"\n",
    "    return str(first_param).lower() + str(second_param).upper()"
   ]
  },
  {
   "cell_type": "markdown",
   "metadata": {},
   "source": [
    "**Exercise 1:**\n",
    "\n",
    "Rename a function, add docstring, type hints\n",
    "\n",
    "def refactor_me(x, y, z):\n",
    "    return 2*x+y+z**2"
   ]
  },
  {
   "cell_type": "code",
   "execution_count": null,
   "metadata": {},
   "outputs": [],
   "source": []
  },
  {
   "cell_type": "markdown",
   "metadata": {},
   "source": [
    "#### Extract\n",
    "\n",
    "Let's try another refactoring technique: **Extract**\n",
    "\n",
    "What we can **Extract**:\n",
    "- a variable\n",
    "- a function\n",
    "- function parameters\n",
    "- class\n",
    "- class methods"
   ]
  },
  {
   "cell_type": "code",
   "execution_count": null,
   "metadata": {},
   "outputs": [],
   "source": [
    "movies_valid_budget = movies.loc[movies[\"budget\"] != 0]\n",
    "\n",
    "# extract a variable\n",
    "valid_budget = movies[\"budget\"] != 0\n",
    "movies_valid_budget = movies.loc[valid_budget]"
   ]
  },
  {
   "cell_type": "markdown",
   "metadata": {},
   "source": [
    "Let's extract a function, but before this we need to add tests"
   ]
  },
  {
   "cell_type": "code",
   "execution_count": null,
   "metadata": {},
   "outputs": [],
   "source": [
    "%%run_pytest[clean] -vv\n",
    "\n",
    "#Our tests\n",
    "def test_say_hello_success():\n",
    "    assert say_hello() == \"Hello Again\"\n",
    "\n",
    "def test_say_hello_failure():\n",
    "    assert say_hello() == \"hello Again\"\n",
    "\n",
    "    \n",
    "#A function to be tested\n",
    "def say_hello():\n",
    "    return \"Hello Again\""
   ]
  },
  {
   "cell_type": "code",
   "execution_count": null,
   "metadata": {},
   "outputs": [],
   "source": [
    "%%run_pytest[clean] -vv\n",
    "\n",
    "#Our tests\n",
    "#positive case\n",
    "def test_multiply_column_by_2():\n",
    "    input_df = pd.DataFrame([(1, 2), (2, 8)], columns=[\"A\", \"B\"])\n",
    "    test_df = multiply_column(input_df, \"B\", 2)\n",
    "    expected_df = pd.Series([50,200], name=\"B\")\n",
    "    pd.testing.assert_series_equal(test_df, expected_df)\n",
    "\n",
    "#positive case\n",
    "def test_multiply_column_by_min1():\n",
    "    input_df = pd.DataFrame([(1, 2), (2, 8)], columns=[\"A\", \"B\"])\n",
    "    test_df = multiply_column(input_df, \"A\", -1)\n",
    "    expected_df = pd.Series([25,50], name=\"A\")\n",
    "    pd.testing.assert_series_equal(test_df, expected_df)\n",
    "   \n",
    "# negative case\n",
    "def test_multiply_column_not_exist():\n",
    "    with pytest.raises(KeyError):\n",
    "        input_df = pd.DataFrame([(1, 2), (2, 8)], columns=[\"A\", \"B\"])\n",
    "        test_df = multiply_column(input_df, \"C\", 0)\n",
    "\n",
    "#Extract a function\n",
    "def multiply_column(df: pd.DataFrame, column_name: str, multiplyer: int) -> pd.DataFrame:\n",
    "    df = df.copy()\n",
    "    updated_df = df[column_name] * 25\n",
    "    return updated_df"
   ]
  },
  {
   "cell_type": "markdown",
   "metadata": {},
   "source": [
    "**Exercise 2:**\n",
    "\n",
    "Extract a function and 3 tests for the following lines below"
   ]
  },
  {
   "cell_type": "code",
   "execution_count": null,
   "metadata": {},
   "outputs": [],
   "source": [
    "#clean_movie_data_df = movie_data_df.loc[movie_data_df[\"budget\"] != 0  ]\n",
    "#clean_movie_data_df = clean_movie_data_df.loc[clean_movie_data_df[\"revenue\"] != 0  ]"
   ]
  },
  {
   "cell_type": "code",
   "execution_count": null,
   "metadata": {},
   "outputs": [],
   "source": []
  },
  {
   "cell_type": "markdown",
   "metadata": {},
   "source": [
    "#### Inline\n",
    "\n",
    "Let's move to another refactoring technique: **Inline**\n",
    "\n",
    "What we can **Inline**:\n",
    "- a variable\n",
    "- a function\n",
    "- a class\n",
    "- class attributes\n",
    "- class methods"
   ]
  },
  {
   "cell_type": "code",
   "execution_count": null,
   "metadata": {},
   "outputs": [],
   "source": [
    "filepath = (\"data/movies_metadata.csv\")\n",
    "movies = pd.read_csv(filepath, low_memory=False)\n",
    "\n",
    "#Inline variable\n",
    "movies = pd.read_csv(\"data/movies_metadata.csv\", low_memory=False)"
   ]
  },
  {
   "cell_type": "markdown",
   "metadata": {},
   "source": [
    "#### Move\n",
    "\n",
    "And what about this refactoring technique: **Move**\n",
    "\n",
    "What we can **Move**:\n",
    "- a variable\n",
    "- a function\n",
    "- a class\n",
    "- class methods"
   ]
  },
  {
   "cell_type": "code",
   "execution_count": null,
   "metadata": {},
   "outputs": [],
   "source": [
    "class MyRegressModel():\n",
    "    \n",
    "    def do_smth(self):\n",
    "        pass\n",
    "    \n",
    "    def do_classification(self, inputs):\n",
    "        pass\n",
    "    \n",
    "# Move a class method\n",
    "class MyRegressModel():\n",
    "    \n",
    "    def do_smth(self):\n",
    "        pass\n",
    "    \n",
    "class MyClassifModel():\n",
    "      \n",
    "        def do_classification(self, inputs):\n",
    "            pass"
   ]
  },
  {
   "cell_type": "markdown",
   "metadata": {},
   "source": [
    "## Bonus"
   ]
  },
  {
   "cell_type": "markdown",
   "metadata": {},
   "source": [
    "### Future readings"
   ]
  },
  {
   "cell_type": "markdown",
   "metadata": {},
   "source": [
    "- [Jupyter Notebook Refactoring Series - Part 1](https://itnext.io/jupyter-notebook-refactoring-series-part-1-adff1b44dfdb)\n",
    "- [Jupyter Notebook Refactoring Series - Part 2](https://itnext.io/jupyter-notebook-refactoring-series-part-2-899e40163ead)\n",
    "- [Refactoring catalogue](https://refactoring.com/catalog/)\n",
    "- [Refactoring techniques](https://refactoring.guru/refactoring/techniques)\n",
    "\n",
    "- [Data Science Workflow](https://towardsdatascience.com/the-data-science-workflow-43859db0415)\n",
    "- [Structure and Automated Workflow for Data Science Project - Part1](https://towardsdatascience.com/structure-and-automated-workflow-for-a-machine-learning-project-2fa30d661c1e)\n",
    "- [Structure and Automated Workflow for Data Science Project - Part2](https://towardsdatascience.com/structure-and-automated-workflow-for-a-machine-learning-project-part-2-b5b420625102)\n",
    "- [Integrate Unit Testing, Linting and CI into your Python project](https://www.earthdatascience.org/blog/unit-testing-linting-ci-python/)"
   ]
  },
  {
   "cell_type": "markdown",
   "metadata": {},
   "source": [
    "### Useful links"
   ]
  },
  {
   "cell_type": "markdown",
   "metadata": {},
   "source": [
    "- [Reproducible Data Analysis in Jupyter](https://youtu.be/_ZEWDGpM-vM)\n",
    "- [Clean code for ML projects](https://github.com/davified/clean-code-ml)"
   ]
  },
  {
   "cell_type": "markdown",
   "metadata": {},
   "source": [
    "## Q&A time\n",
    "\n",
    "### Thank you for your time !!!"
   ]
  }
 ],
 "metadata": {
  "celltoolbar": "Slideshow",
  "kernelspec": {
   "display_name": "Python 3",
   "language": "python",
   "name": "python3"
  },
  "language_info": {
   "codemirror_mode": {
    "name": "ipython",
    "version": 3
   },
   "file_extension": ".py",
   "mimetype": "text/x-python",
   "name": "python",
   "nbconvert_exporter": "python",
   "pygments_lexer": "ipython3",
   "version": "3.7.6"
  }
 },
 "nbformat": 4,
 "nbformat_minor": 4
}
